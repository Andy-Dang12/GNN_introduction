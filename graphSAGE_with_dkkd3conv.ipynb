{
 "cells": [
  {
   "cell_type": "code",
   "execution_count": 2,
   "metadata": {},
   "outputs": [],
   "source": [
    "import torch, dgl\n",
    "import torch.nn as nn\n",
    "import torch.nn.functional as F\n",
    "import torch.optim as optim\n",
    "\n",
    "from dgl.data import DGLDataset\n",
    "import dgl.function as fn\n",
    "import re\n",
    "import numpy as np\n",
    "import pandas as pd\n",
    "import os.path as osp\n",
    "from colorama import Fore\n",
    "from glob import glob\n",
    "from random import shuffle\n",
    "from copy import deepcopy\n",
    "import warnings\n",
    "warnings.filterwarnings('ignore')"
   ]
  },
  {
   "cell_type": "markdown",
   "metadata": {},
   "source": [
    "##### 1. graphSAGE"
   ]
  },
  {
   "cell_type": "code",
   "execution_count": 3,
   "metadata": {},
   "outputs": [],
   "source": [
    "class SAGEConv(nn.Module):\n",
    "    \"\"\"Graph convolution module used by the GraphSAGE model.\n",
    "\n",
    "    Parameters\n",
    "    ----------\n",
    "    in_feat : int\n",
    "        Input feature size.\n",
    "    out_feat : int\n",
    "        Output feature size.\n",
    "    \"\"\"\n",
    "    \n",
    "    def __init__(self, in_feat:int, out_feat:int):\n",
    "        super(SAGEConv, self).__init__()\n",
    "        # A linear submodule for projecting the input and neighbor feature to the output.\n",
    "        self.linear = nn.Linear(in_feat * 2, out_feat)\n",
    "\n",
    "    def forward(self, g, h):\n",
    "        \"\"\"Forward computation\n",
    "\n",
    "        Parameters\n",
    "        ----------\n",
    "        g : Graph\n",
    "            The input graph.\n",
    "        h : Tensor\n",
    "            The input node feature.\n",
    "        \"\"\"\n",
    "        with g.local_scope():\n",
    "            g.ndata['h'] = h\n",
    "            # update_all is a message passing API.\n",
    "            g.update_all(message_func = fn.copy_u('h', 'm'), \n",
    "                         reduce_func = fn.mean('m', 'h_N'))\n",
    "                        #  reduce_func = fn.max('m', 'h_N'))\n",
    "                        #  reduce_func = fn.sum('m', 'h_N'))\n",
    "                        #  reduce_func = fn.sum('m', 'h_N'))\n",
    "            h_N = g.ndata['h_N']\n",
    "            h_total = torch.cat([h, h_N], dim=1)\n",
    "            return self.linear(h_total)\n",
    "\n",
    "\n",
    "class GraphSAGE(nn.Module):\n",
    "    def __init__(self, in_feats, h_feats_1, h_feats_2, num_classes):\n",
    "        super(GraphSAGE, self).__init__()\n",
    "        self.conv1 = SAGEConv(in_feats, h_feats_1)\n",
    "        self.conv2 = SAGEConv(h_feats_1, h_feats_2)\n",
    "        self.conv3 = SAGEConv(h_feats_2, num_classes)\n",
    "        \n",
    "        \n",
    "    def forward(self, g, in_feat):\n",
    "        h = self.conv1(g, in_feat)\n",
    "        h = F.relu(h)\n",
    "        h = self.conv2(g, h)\n",
    "        h = F.relu(h)\n",
    "        h = self.conv3(g, h)\n",
    "        return h"
   ]
  },
  {
   "cell_type": "markdown",
   "metadata": {},
   "source": [
    "##### 2. Graph Dataset"
   ]
  },
  {
   "cell_type": "code",
   "execution_count": 8,
   "metadata": {},
   "outputs": [],
   "source": [
    "class DkkdGraphDataset(DGLDataset):\n",
    "    def __init__(self, root:str='dataset/graph_DKKD'):\n",
    "        super().__init__(name='dataset/DKKD_graph')\n",
    "        self.root = root\n",
    "        self.edges = glob(osp.join(root, '*.edges.csv'))\n",
    "        self.nodes_feat = glob(osp.join(root, '*.nfeat.npy'))\n",
    "        self.nodes_label = glob(osp.join(root, '*.idx.csv'))\n",
    "    \n",
    "    @staticmethod\n",
    "    def _get_n_nodes(nodes_label:pd.DataFrame) -> int:\n",
    "        r\"\"\"\n",
    "        tính và kiểm tra số thứ tự của node\n",
    "        \"\"\"\n",
    "        n_nodes = nodes_label['Id'].to_list()\n",
    "        for i, idx in enumerate(n_nodes):\n",
    "            assert i == idx, 'i != idx'\n",
    "        return len(n_nodes)\n",
    "    \n",
    "    \n",
    "    def __len__(self): return len(self.edges)\n",
    "    \n",
    "    def __getitem__(self, i):\n",
    "        edgep = self.edges[i]\n",
    "        nodes_feat = np.load(re.sub('.edges.csv$', '.nfeat.npy', edgep))\n",
    "        nodes_label = pd.read_csv(\n",
    "            re.sub('.edges.csv$', '.idx.csv', edgep), encoding='utf-8')\n",
    "        n_nodes = self._get_n_nodes(nodes_label)\n",
    "        \n",
    "        nodes_label = nodes_label['label'].astype('category').cat.codes.to_list()\n",
    "        edge = pd.read_csv(edgep, encoding='utf-8')\n",
    "        \n",
    "        g = dgl.graph((edge['src'], edge['dst']), num_nodes=n_nodes)\n",
    "        g = dgl.to_bidirected(g)\n",
    "        g = dgl.remove_self_loop(g)\n",
    "        g.ndata['feat' ] = torch.from_numpy(nodes_feat )\n",
    "        g.ndata['label'] = torch.tensor    (nodes_label)\n",
    "        g.ndata['train_mask'] = torch.ones (n_nodes, dtype=torch.bool)\n",
    "        g.ndata['val_mask'  ] = torch.zeros(n_nodes, dtype=torch.bool)\n",
    "        g.ndata['test_mask' ] = torch.zeros(n_nodes, dtype=torch.bool)\n",
    "        \n",
    "        return g\n",
    "    \n",
    "    def process(self): ...\n",
    "dataset = DkkdGraphDataset()"
   ]
  },
  {
   "cell_type": "markdown",
   "metadata": {},
   "source": [
    "##### 3. Training function"
   ]
  },
  {
   "cell_type": "code",
   "execution_count": 5,
   "metadata": {},
   "outputs": [],
   "source": [
    "def train(dataset:DGLDataset, model:nn.Module, epochs:int, lr=0.001):\n",
    "    optimizer = optim.Adam(model.parameters(), lr=lr)\n",
    "    all_logits = []\n",
    "    best_acc = 0.9360\n",
    "    \n",
    "    for epoch in range(1, epochs+1):\n",
    "        idxs = list(range(len(dataset)));shuffle(idxs)\n",
    "        acc = 0\n",
    "        for i in idxs:\n",
    "            g = dataset[i]\n",
    "            # g = g.to(device)\n",
    "            features = g.ndata['feat'].float()\n",
    "            labels = g.ndata['label']\n",
    "            \n",
    "            logits = model(g, features)\n",
    "            pred = logits.argmax(1)\n",
    "            loss = F.cross_entropy(logits, labels)\n",
    "            acc += (pred == labels).float().mean()\n",
    "            \n",
    "            optimizer.zero_grad()\n",
    "            loss.backward()\n",
    "            optimizer.step()\n",
    "            all_logits.append(logits.detach())\n",
    "        \n",
    "        acc = 1.*acc/len(dataset)\n",
    "        if acc >= best_acc:\n",
    "            best_acc = acc\n",
    "            best_model = deepcopy(model)\n",
    "            torch.save(model.state_dict(), 'weights/graphSAGE_best40.pth')\n",
    "            \n",
    "        if not epoch%32:\n",
    "            print('Epoch {:<3d}: loss: {:.4f}, best {:.4f}, acc: {:.4f})'.format(\n",
    "                            epoch, loss, best_acc, acc))\n",
    "\n",
    "    torch.save(best_model.state_dict(), 'weights/graphSAGE_best40.pth')\n",
    "    print('Last epoch {:<3d}, loss: {:.4f}, (best {:.4f}), acc: {:.4f})'.format(\n",
    "                        epoch, loss, best_acc, acc))\n",
    "    \n",
    "    return best_model, best_acc"
   ]
  },
  {
   "cell_type": "code",
   "execution_count": 9,
   "metadata": {},
   "outputs": [
    {
     "name": "stdout",
     "output_type": "stream",
     "text": [
      "num classes =  48\n"
     ]
    }
   ],
   "source": [
    "from dkkd_create_graph import create_cls_to_idx\n",
    "classes, class_to_idx = create_cls_to_idx('dataset/DKKD/labels.txt')\n",
    "\n",
    "num_classes = len(classes)  #48\n",
    "print('num classes = ', num_classes)\n",
    "model = GraphSAGE(772, 196, 64, num_classes) # "
   ]
  },
  {
   "cell_type": "code",
   "execution_count": 10,
   "metadata": {},
   "outputs": [
    {
     "name": "stdout",
     "output_type": "stream",
     "text": [
      "Epoch 32 : loss: 1.4729, best 0.9360, acc: 0.4850)\n",
      "Epoch 64 : loss: 1.2987, best 0.9360, acc: 0.6483)\n",
      "Epoch 96 : loss: 1.0466, best 0.9360, acc: 0.7239)\n",
      "Epoch 128: loss: 0.1850, best 0.9360, acc: 0.7719)\n",
      "Epoch 160: loss: 0.7292, best 0.9360, acc: 0.8071)\n",
      "Epoch 192: loss: 0.8801, best 0.9360, acc: 0.8247)\n",
      "Epoch 224: loss: 0.9194, best 0.9360, acc: 0.8408)\n",
      "Epoch 256: loss: 0.1559, best 0.9360, acc: 0.8495)\n",
      "Epoch 288: loss: 0.1744, best 0.9360, acc: 0.8575)\n",
      "Epoch 320: loss: 0.4857, best 0.9360, acc: 0.8666)\n",
      "Epoch 352: loss: 0.5495, best 0.9360, acc: 0.8700)\n",
      "Epoch 384: loss: 0.0686, best 0.9360, acc: 0.8791)\n",
      "Epoch 416: loss: 0.5814, best 0.9360, acc: 0.8807)\n",
      "Epoch 448: loss: 0.1554, best 0.9360, acc: 0.8841)\n",
      "Epoch 480: loss: 0.3956, best 0.9360, acc: 0.8875)\n",
      "Epoch 512: loss: 0.3114, best 0.9360, acc: 0.8954)\n",
      "Epoch 544: loss: 0.2021, best 0.9360, acc: 0.8968)\n",
      "Epoch 576: loss: 0.5676, best 0.9360, acc: 0.9026)\n",
      "Epoch 608: loss: 0.2607, best 0.9360, acc: 0.9009)\n",
      "Epoch 640: loss: 0.1807, best 0.9360, acc: 0.9022)\n",
      "Epoch 672: loss: 0.5315, best 0.9360, acc: 0.9078)\n",
      "Epoch 704: loss: 0.1713, best 0.9360, acc: 0.9131)\n",
      "Epoch 736: loss: 0.5077, best 0.9360, acc: 0.9093)\n",
      "Epoch 768: loss: 0.3446, best 0.9360, acc: 0.9123)\n",
      "Epoch 800: loss: 0.1644, best 0.9360, acc: 0.9097)\n",
      "Epoch 832: loss: 0.2209, best 0.9360, acc: 0.9146)\n",
      "Epoch 864: loss: 0.1896, best 0.9360, acc: 0.9219)\n",
      "Epoch 896: loss: 0.1470, best 0.9360, acc: 0.9170)\n",
      "Epoch 928: loss: 0.0393, best 0.9360, acc: 0.9199)\n",
      "Epoch 960: loss: 0.2338, best 0.9360, acc: 0.9224)\n",
      "Epoch 992: loss: 0.2557, best 0.9360, acc: 0.9219)\n",
      "Epoch 1024: loss: 0.2325, best 0.9360, acc: 0.9223)\n",
      "Epoch 1056: loss: 0.1352, best 0.9360, acc: 0.9258)\n",
      "Epoch 1088: loss: 0.0270, best 0.9360, acc: 0.9188)\n",
      "Epoch 1120: loss: 0.2926, best 0.9360, acc: 0.9306)\n",
      "Epoch 1152: loss: 0.1028, best 0.9360, acc: 0.9270)\n",
      "Epoch 1184: loss: 0.0942, best 0.9360, acc: 0.9280)\n",
      "Epoch 1216: loss: 0.2876, best 0.9360, acc: 0.9257)\n",
      "Epoch 1248: loss: 0.0628, best 0.9360, acc: 0.9272)\n",
      "Epoch 1280: loss: 0.2172, best 0.9375, acc: 0.9357)\n",
      "Epoch 1312: loss: 0.0750, best 0.9375, acc: 0.9180)\n",
      "Epoch 1344: loss: 0.0112, best 0.9375, acc: 0.9301)\n",
      "Epoch 1376: loss: 0.1896, best 0.9375, acc: 0.9356)\n",
      "Epoch 1408: loss: 0.3945, best 0.9375, acc: 0.9321)\n",
      "Epoch 1440: loss: 0.4827, best 0.9375, acc: 0.9289)\n",
      "Epoch 1472: loss: 0.1539, best 0.9385, acc: 0.9346)\n",
      "Epoch 1504: loss: 0.3165, best 0.9385, acc: 0.9273)\n",
      "Epoch 1536: loss: 0.2294, best 0.9402, acc: 0.9324)\n",
      "Epoch 1568: loss: 0.3037, best 0.9402, acc: 0.9322)\n",
      "Epoch 1600: loss: 0.0201, best 0.9402, acc: 0.9285)\n",
      "Epoch 1632: loss: 0.1347, best 0.9402, acc: 0.9313)\n",
      "Epoch 1664: loss: 0.1267, best 0.9410, acc: 0.9372)\n",
      "Epoch 1696: loss: 0.1360, best 0.9416, acc: 0.9375)\n",
      "Epoch 1728: loss: 0.2824, best 0.9424, acc: 0.9363)\n",
      "Epoch 1760: loss: 0.1434, best 0.9479, acc: 0.9332)\n",
      "Epoch 1792: loss: 0.0034, best 0.9479, acc: 0.9343)\n",
      "Epoch 1824: loss: 0.1982, best 0.9479, acc: 0.9404)\n",
      "Epoch 1856: loss: 0.0169, best 0.9479, acc: 0.9386)\n",
      "Epoch 1888: loss: 0.0340, best 0.9479, acc: 0.9388)\n",
      "Epoch 1920: loss: 0.2961, best 0.9479, acc: 0.9419)\n",
      "Epoch 1952: loss: 0.1484, best 0.9479, acc: 0.9391)\n",
      "Epoch 1984: loss: 0.1054, best 0.9479, acc: 0.9426)\n",
      "Epoch 2016: loss: 0.1341, best 0.9479, acc: 0.9398)\n",
      "Epoch 2048: loss: 0.0146, best 0.9479, acc: 0.9347)\n",
      "Epoch 2080: loss: 0.0016, best 0.9479, acc: 0.9405)\n",
      "Epoch 2112: loss: 0.1723, best 0.9479, acc: 0.9407)\n",
      "Epoch 2144: loss: 0.2446, best 0.9489, acc: 0.9481)\n",
      "Epoch 2176: loss: 0.0406, best 0.9489, acc: 0.9410)\n",
      "Epoch 2208: loss: 0.1400, best 0.9494, acc: 0.9421)\n",
      "Epoch 2240: loss: 0.0353, best 0.9494, acc: 0.9396)\n",
      "Epoch 2272: loss: 0.1999, best 0.9494, acc: 0.9465)\n",
      "Epoch 2304: loss: 0.4493, best 0.9494, acc: 0.9375)\n",
      "Epoch 2336: loss: 0.0030, best 0.9513, acc: 0.9419)\n",
      "Epoch 2368: loss: 0.2328, best 0.9513, acc: 0.9471)\n",
      "Epoch 2400: loss: 0.1820, best 0.9527, acc: 0.9471)\n",
      "Epoch 2432: loss: 0.0609, best 0.9527, acc: 0.9478)\n",
      "Epoch 2464: loss: 0.1994, best 0.9527, acc: 0.9459)\n",
      "Epoch 2496: loss: 0.2472, best 0.9527, acc: 0.9457)\n",
      "Epoch 2528: loss: 0.0212, best 0.9527, acc: 0.9460)\n",
      "Epoch 2560: loss: 0.0993, best 0.9527, acc: 0.9455)\n",
      "Epoch 2592: loss: 0.0423, best 0.9527, acc: 0.9398)\n",
      "Epoch 2624: loss: 0.0008, best 0.9527, acc: 0.9473)\n",
      "Epoch 2656: loss: 0.0990, best 0.9527, acc: 0.9482)\n",
      "Epoch 2688: loss: 0.0112, best 0.9527, acc: 0.9444)\n",
      "Epoch 2720: loss: 0.0423, best 0.9570, acc: 0.9531)\n",
      "Epoch 2752: loss: 0.2493, best 0.9570, acc: 0.9506)\n",
      "Epoch 2784: loss: 0.2847, best 0.9570, acc: 0.9493)\n",
      "Epoch 2816: loss: 0.4733, best 0.9570, acc: 0.9309)\n",
      "Epoch 2848: loss: 0.0913, best 0.9570, acc: 0.9318)\n",
      "Epoch 2880: loss: 0.0566, best 0.9570, acc: 0.9457)\n",
      "Epoch 2912: loss: 0.0013, best 0.9570, acc: 0.9527)\n",
      "Epoch 2944: loss: 0.1948, best 0.9570, acc: 0.9459)\n",
      "Epoch 2976: loss: 0.1684, best 0.9570, acc: 0.9481)\n",
      "Epoch 3008: loss: 0.0440, best 0.9570, acc: 0.9468)\n",
      "Epoch 3040: loss: 0.3655, best 0.9570, acc: 0.8958)\n",
      "Epoch 3072: loss: 0.1303, best 0.9570, acc: 0.9519)\n",
      "Epoch 3104: loss: 0.2223, best 0.9570, acc: 0.9503)\n",
      "Epoch 3136: loss: 0.0089, best 0.9570, acc: 0.9457)\n",
      "Epoch 3168: loss: 0.0574, best 0.9570, acc: 0.9520)\n",
      "Epoch 3200: loss: 0.1108, best 0.9584, acc: 0.9503)\n",
      "Epoch 3232: loss: 0.1360, best 0.9584, acc: 0.9483)\n",
      "Epoch 3264: loss: 0.0616, best 0.9584, acc: 0.9521)\n",
      "Epoch 3296: loss: 0.2515, best 0.9584, acc: 0.9433)\n",
      "Epoch 3328: loss: 0.1543, best 0.9584, acc: 0.9466)\n",
      "Epoch 3360: loss: 0.0157, best 0.9584, acc: 0.9507)\n",
      "Epoch 3392: loss: 0.0010, best 0.9584, acc: 0.9499)\n",
      "Epoch 3424: loss: 0.0880, best 0.9584, acc: 0.9516)\n",
      "Epoch 3456: loss: 0.1764, best 0.9584, acc: 0.9498)\n",
      "Epoch 3488: loss: 0.1785, best 0.9584, acc: 0.9542)\n",
      "Epoch 3520: loss: 0.2745, best 0.9584, acc: 0.9513)\n",
      "Epoch 3552: loss: 0.1417, best 0.9584, acc: 0.9552)\n",
      "Epoch 3584: loss: 0.0291, best 0.9584, acc: 0.9454)\n",
      "Epoch 3616: loss: 0.1228, best 0.9584, acc: 0.9529)\n",
      "Epoch 3648: loss: 0.3878, best 0.9584, acc: 0.9528)\n",
      "Epoch 3680: loss: 0.0665, best 0.9597, acc: 0.9509)\n",
      "Epoch 3712: loss: 0.0436, best 0.9597, acc: 0.9486)\n",
      "Epoch 3744: loss: 0.2651, best 0.9597, acc: 0.9474)\n",
      "Epoch 3776: loss: 0.1220, best 0.9597, acc: 0.9486)\n",
      "Epoch 3808: loss: 0.4409, best 0.9597, acc: 0.9486)\n"
     ]
    }
   ],
   "source": [
    "best_model, best_acc = train(dataset, model, 100000, lr=0.0009)\n",
    "torch.save(best_model.state_dict(), 'weights/graphSAGE_best40.pth')\n",
    "print(best_acc)"
   ]
  },
  {
   "cell_type": "code",
   "execution_count": 13,
   "metadata": {},
   "outputs": [],
   "source": [
    "torch.save(best_model.state_dict(), 'weights/graphSAGE_best40.pth')"
   ]
  },
  {
   "cell_type": "code",
   "execution_count": 6,
   "metadata": {},
   "outputs": [
    {
     "name": "stdout",
     "output_type": "stream",
     "text": [
      "/home/agent/Documents/graph/GNN/dataset/DKKD_graph/0015.edges.csv\n"
     ]
    },
    {
     "name": "stderr",
     "output_type": "stream",
     "text": [
      "/home/agent/anaconda3/envs/graph/lib/python3.8/site-packages/torch/autocast_mode.py:141: UserWarning: User provided device_type of 'cuda', but CUDA is not available. Disabling\n",
      "  warnings.warn('User provided device_type of \\'cuda\\', but CUDA is not available. Disabling')\n"
     ]
    },
    {
     "name": "stdout",
     "output_type": "stream",
     "text": [
      "In epoch  25, loss: 0.0783, val acc: nan (best 0.0000), test acc: nan (best 0.0000)\n",
      "In epoch  50, loss: 0.0474, val acc: nan (best 0.0000), test acc: nan (best 0.0000)\n",
      "In epoch  75, loss: 0.0441, val acc: nan (best 0.0000), test acc: nan (best 0.0000)\n",
      "In epoch 100, loss: 0.0424, val acc: nan (best 0.0000), test acc: nan (best 0.0000)\n",
      "/home/agent/Documents/graph/GNN/dataset/DKKD_graph/0034.edges.csv\n"
     ]
    },
    {
     "name": "stderr",
     "output_type": "stream",
     "text": [
      "/home/agent/anaconda3/envs/graph/lib/python3.8/site-packages/torch/autocast_mode.py:141: UserWarning: User provided device_type of 'cuda', but CUDA is not available. Disabling\n",
      "  warnings.warn('User provided device_type of \\'cuda\\', but CUDA is not available. Disabling')\n"
     ]
    },
    {
     "name": "stdout",
     "output_type": "stream",
     "text": [
      "In epoch  25, loss: 0.1433, val acc: nan (best 0.0000), test acc: nan (best 0.0000)\n",
      "In epoch  50, loss: 0.0560, val acc: nan (best 0.0000), test acc: nan (best 0.0000)\n",
      "In epoch  75, loss: 0.0522, val acc: nan (best 0.0000), test acc: nan (best 0.0000)\n",
      "In epoch 100, loss: 0.0507, val acc: nan (best 0.0000), test acc: nan (best 0.0000)\n",
      "/home/agent/Documents/graph/GNN/dataset/DKKD_graph/0048.edges.csv\n"
     ]
    },
    {
     "name": "stderr",
     "output_type": "stream",
     "text": [
      "/home/agent/anaconda3/envs/graph/lib/python3.8/site-packages/torch/autocast_mode.py:141: UserWarning: User provided device_type of 'cuda', but CUDA is not available. Disabling\n",
      "  warnings.warn('User provided device_type of \\'cuda\\', but CUDA is not available. Disabling')\n"
     ]
    },
    {
     "name": "stdout",
     "output_type": "stream",
     "text": [
      "In epoch  25, loss: 0.0645, val acc: nan (best 0.0000), test acc: nan (best 0.0000)\n",
      "In epoch  50, loss: 0.0561, val acc: nan (best 0.0000), test acc: nan (best 0.0000)\n",
      "In epoch  75, loss: 0.0542, val acc: nan (best 0.0000), test acc: nan (best 0.0000)\n",
      "In epoch 100, loss: 0.0519, val acc: nan (best 0.0000), test acc: nan (best 0.0000)\n",
      "/home/agent/Documents/graph/GNN/dataset/DKKD_graph/0011.edges.csv\n"
     ]
    },
    {
     "name": "stderr",
     "output_type": "stream",
     "text": [
      "/home/agent/anaconda3/envs/graph/lib/python3.8/site-packages/torch/autocast_mode.py:141: UserWarning: User provided device_type of 'cuda', but CUDA is not available. Disabling\n",
      "  warnings.warn('User provided device_type of \\'cuda\\', but CUDA is not available. Disabling')\n"
     ]
    },
    {
     "name": "stdout",
     "output_type": "stream",
     "text": [
      "In epoch  25, loss: 1.7422, val acc: nan (best 0.0000), test acc: nan (best 0.0000)\n",
      "In epoch  50, loss: 0.4449, val acc: nan (best 0.0000), test acc: nan (best 0.0000)\n",
      "In epoch  75, loss: 0.1424, val acc: nan (best 0.0000), test acc: nan (best 0.0000)\n",
      "In epoch 100, loss: 0.0956, val acc: nan (best 0.0000), test acc: nan (best 0.0000)\n",
      "/home/agent/Documents/graph/GNN/dataset/DKKD_graph/0042.edges.csv\n"
     ]
    },
    {
     "name": "stderr",
     "output_type": "stream",
     "text": [
      "/home/agent/anaconda3/envs/graph/lib/python3.8/site-packages/torch/autocast_mode.py:141: UserWarning: User provided device_type of 'cuda', but CUDA is not available. Disabling\n",
      "  warnings.warn('User provided device_type of \\'cuda\\', but CUDA is not available. Disabling')\n"
     ]
    },
    {
     "name": "stdout",
     "output_type": "stream",
     "text": [
      "In epoch  25, loss: 2.8412, val acc: nan (best 0.0000), test acc: nan (best 0.0000)\n",
      "In epoch  50, loss: 1.2396, val acc: nan (best 0.0000), test acc: nan (best 0.0000)\n",
      "In epoch  75, loss: 0.6140, val acc: nan (best 0.0000), test acc: nan (best 0.0000)\n",
      "In epoch 100, loss: 0.2571, val acc: nan (best 0.0000), test acc: nan (best 0.0000)\n",
      "/home/agent/Documents/graph/GNN/dataset/DKKD_graph/0008.edges.csv\n",
      "In epoch  25, loss: 2.2989, val acc: nan (best 0.0000), test acc: nan (best 0.0000)\n"
     ]
    },
    {
     "name": "stderr",
     "output_type": "stream",
     "text": [
      "/home/agent/anaconda3/envs/graph/lib/python3.8/site-packages/torch/autocast_mode.py:141: UserWarning: User provided device_type of 'cuda', but CUDA is not available. Disabling\n",
      "  warnings.warn('User provided device_type of \\'cuda\\', but CUDA is not available. Disabling')\n"
     ]
    },
    {
     "name": "stdout",
     "output_type": "stream",
     "text": [
      "In epoch  50, loss: 1.6278, val acc: nan (best 0.0000), test acc: nan (best 0.0000)\n",
      "In epoch  75, loss: 0.8737, val acc: nan (best 0.0000), test acc: nan (best 0.0000)\n",
      "In epoch 100, loss: 0.4679, val acc: nan (best 0.0000), test acc: nan (best 0.0000)\n",
      "/home/agent/Documents/graph/GNN/dataset/DKKD_graph/0045.edges.csv\n",
      "In epoch  25, loss: 3.3177, val acc: nan (best 0.0000), test acc: nan (best 0.0000)\n"
     ]
    },
    {
     "name": "stderr",
     "output_type": "stream",
     "text": [
      "/home/agent/anaconda3/envs/graph/lib/python3.8/site-packages/torch/autocast_mode.py:141: UserWarning: User provided device_type of 'cuda', but CUDA is not available. Disabling\n",
      "  warnings.warn('User provided device_type of \\'cuda\\', but CUDA is not available. Disabling')\n"
     ]
    },
    {
     "name": "stdout",
     "output_type": "stream",
     "text": [
      "In epoch  50, loss: 2.1232, val acc: nan (best 0.0000), test acc: nan (best 0.0000)\n",
      "In epoch  75, loss: 1.4083, val acc: nan (best 0.0000), test acc: nan (best 0.0000)\n",
      "In epoch 100, loss: 0.8479, val acc: nan (best 0.0000), test acc: nan (best 0.0000)\n",
      "/home/agent/Documents/graph/GNN/dataset/DKKD_graph/0005.edges.csv\n",
      "In epoch  25, loss: 3.9167, val acc: nan (best 0.0000), test acc: nan (best 0.0000)\n"
     ]
    },
    {
     "name": "stderr",
     "output_type": "stream",
     "text": [
      "/home/agent/anaconda3/envs/graph/lib/python3.8/site-packages/torch/autocast_mode.py:141: UserWarning: User provided device_type of 'cuda', but CUDA is not available. Disabling\n",
      "  warnings.warn('User provided device_type of \\'cuda\\', but CUDA is not available. Disabling')\n"
     ]
    },
    {
     "name": "stdout",
     "output_type": "stream",
     "text": [
      "In epoch  50, loss: 2.7312, val acc: nan (best 0.0000), test acc: nan (best 0.0000)\n",
      "In epoch  75, loss: 2.3261, val acc: nan (best 0.0000), test acc: nan (best 0.0000)\n",
      "In epoch 100, loss: 2.0679, val acc: nan (best 0.0000), test acc: nan (best 0.0000)\n",
      "/home/agent/Documents/graph/GNN/dataset/DKKD_graph/0027.edges.csv\n",
      "In epoch  25, loss: 1.9727, val acc: nan (best 0.0000), test acc: nan (best 0.0000)\n"
     ]
    },
    {
     "name": "stderr",
     "output_type": "stream",
     "text": [
      "/home/agent/anaconda3/envs/graph/lib/python3.8/site-packages/torch/autocast_mode.py:141: UserWarning: User provided device_type of 'cuda', but CUDA is not available. Disabling\n",
      "  warnings.warn('User provided device_type of \\'cuda\\', but CUDA is not available. Disabling')\n"
     ]
    },
    {
     "name": "stdout",
     "output_type": "stream",
     "text": [
      "In epoch  50, loss: 1.3692, val acc: nan (best 0.0000), test acc: nan (best 0.0000)\n",
      "In epoch  75, loss: 1.0068, val acc: nan (best 0.0000), test acc: nan (best 0.0000)\n",
      "In epoch 100, loss: 0.6788, val acc: nan (best 0.0000), test acc: nan (best 0.0000)\n",
      "/home/agent/Documents/graph/GNN/dataset/DKKD_graph/0047.edges.csv\n"
     ]
    },
    {
     "name": "stderr",
     "output_type": "stream",
     "text": [
      "/home/agent/anaconda3/envs/graph/lib/python3.8/site-packages/torch/autocast_mode.py:141: UserWarning: User provided device_type of 'cuda', but CUDA is not available. Disabling\n",
      "  warnings.warn('User provided device_type of \\'cuda\\', but CUDA is not available. Disabling')\n"
     ]
    },
    {
     "name": "stdout",
     "output_type": "stream",
     "text": [
      "In epoch  25, loss: 0.5292, val acc: nan (best 0.0000), test acc: nan (best 0.0000)\n",
      "In epoch  50, loss: 0.2589, val acc: nan (best 0.0000), test acc: nan (best 0.0000)\n",
      "In epoch  75, loss: 0.1251, val acc: nan (best 0.0000), test acc: nan (best 0.0000)\n",
      "In epoch 100, loss: 0.0686, val acc: nan (best 0.0000), test acc: nan (best 0.0000)\n",
      "/home/agent/Documents/graph/GNN/dataset/DKKD_graph/0032.edges.csv\n",
      "In epoch  25, loss: 3.2166, val acc: nan (best 0.0000), test acc: nan (best 0.0000)\n"
     ]
    },
    {
     "name": "stderr",
     "output_type": "stream",
     "text": [
      "/home/agent/anaconda3/envs/graph/lib/python3.8/site-packages/torch/autocast_mode.py:141: UserWarning: User provided device_type of 'cuda', but CUDA is not available. Disabling\n",
      "  warnings.warn('User provided device_type of \\'cuda\\', but CUDA is not available. Disabling')\n"
     ]
    },
    {
     "name": "stdout",
     "output_type": "stream",
     "text": [
      "In epoch  50, loss: 2.1381, val acc: nan (best 0.0000), test acc: nan (best 0.0000)\n",
      "In epoch  75, loss: 1.4870, val acc: nan (best 0.0000), test acc: nan (best 0.0000)\n",
      "In epoch 100, loss: 1.2547, val acc: nan (best 0.0000), test acc: nan (best 0.0000)\n",
      "/home/agent/Documents/graph/GNN/dataset/DKKD_graph/0013.edges.csv\n"
     ]
    },
    {
     "name": "stderr",
     "output_type": "stream",
     "text": [
      "/home/agent/anaconda3/envs/graph/lib/python3.8/site-packages/torch/autocast_mode.py:141: UserWarning: User provided device_type of 'cuda', but CUDA is not available. Disabling\n",
      "  warnings.warn('User provided device_type of \\'cuda\\', but CUDA is not available. Disabling')\n"
     ]
    },
    {
     "name": "stdout",
     "output_type": "stream",
     "text": [
      "In epoch  25, loss: 3.8527, val acc: nan (best 0.0000), test acc: nan (best 0.0000)\n",
      "In epoch  50, loss: 2.5872, val acc: nan (best 0.0000), test acc: nan (best 0.0000)\n",
      "In epoch  75, loss: 2.2364, val acc: nan (best 0.0000), test acc: nan (best 0.0000)\n",
      "In epoch 100, loss: 2.0441, val acc: nan (best 0.0000), test acc: nan (best 0.0000)\n",
      "/home/agent/Documents/graph/GNN/dataset/DKKD_graph/0009.edges.csv\n",
      "In epoch  25, loss: 3.2757, val acc: nan (best 0.0000), test acc: nan (best 0.0000)\n"
     ]
    },
    {
     "name": "stderr",
     "output_type": "stream",
     "text": [
      "/home/agent/anaconda3/envs/graph/lib/python3.8/site-packages/torch/autocast_mode.py:141: UserWarning: User provided device_type of 'cuda', but CUDA is not available. Disabling\n",
      "  warnings.warn('User provided device_type of \\'cuda\\', but CUDA is not available. Disabling')\n"
     ]
    },
    {
     "name": "stdout",
     "output_type": "stream",
     "text": [
      "In epoch  50, loss: 2.6624, val acc: nan (best 0.0000), test acc: nan (best 0.0000)\n",
      "In epoch  75, loss: 2.4313, val acc: nan (best 0.0000), test acc: nan (best 0.0000)\n",
      "In epoch 100, loss: 2.2954, val acc: nan (best 0.0000), test acc: nan (best 0.0000)\n",
      "/home/agent/Documents/graph/GNN/dataset/DKKD_graph/0030.edges.csv\n"
     ]
    },
    {
     "name": "stderr",
     "output_type": "stream",
     "text": [
      "/home/agent/anaconda3/envs/graph/lib/python3.8/site-packages/torch/autocast_mode.py:141: UserWarning: User provided device_type of 'cuda', but CUDA is not available. Disabling\n",
      "  warnings.warn('User provided device_type of \\'cuda\\', but CUDA is not available. Disabling')\n"
     ]
    },
    {
     "name": "stdout",
     "output_type": "stream",
     "text": [
      "In epoch  25, loss: 2.7185, val acc: nan (best 0.0000), test acc: nan (best 0.0000)\n",
      "In epoch  50, loss: 2.1706, val acc: nan (best 0.0000), test acc: nan (best 0.0000)\n",
      "In epoch  75, loss: 1.9726, val acc: nan (best 0.0000), test acc: nan (best 0.0000)\n",
      "In epoch 100, loss: 1.8761, val acc: nan (best 0.0000), test acc: nan (best 0.0000)\n",
      "/home/agent/Documents/graph/GNN/dataset/DKKD_graph/0020.edges.csv\n"
     ]
    },
    {
     "name": "stderr",
     "output_type": "stream",
     "text": [
      "/home/agent/anaconda3/envs/graph/lib/python3.8/site-packages/torch/autocast_mode.py:141: UserWarning: User provided device_type of 'cuda', but CUDA is not available. Disabling\n",
      "  warnings.warn('User provided device_type of \\'cuda\\', but CUDA is not available. Disabling')\n"
     ]
    },
    {
     "name": "stdout",
     "output_type": "stream",
     "text": [
      "In epoch  25, loss: 4.4462, val acc: nan (best 0.0000), test acc: nan (best 0.0000)\n",
      "In epoch  50, loss: 3.9515, val acc: nan (best 0.0000), test acc: nan (best 0.0000)\n",
      "In epoch  75, loss: 3.4706, val acc: nan (best 0.0000), test acc: nan (best 0.0000)\n",
      "In epoch 100, loss: 3.0018, val acc: nan (best 0.0000), test acc: nan (best 0.0000)\n",
      "/home/agent/Documents/graph/GNN/dataset/DKKD_graph/0001.edges.csv\n"
     ]
    },
    {
     "name": "stderr",
     "output_type": "stream",
     "text": [
      "/home/agent/anaconda3/envs/graph/lib/python3.8/site-packages/torch/autocast_mode.py:141: UserWarning: User provided device_type of 'cuda', but CUDA is not available. Disabling\n",
      "  warnings.warn('User provided device_type of \\'cuda\\', but CUDA is not available. Disabling')\n"
     ]
    },
    {
     "name": "stdout",
     "output_type": "stream",
     "text": [
      "In epoch  25, loss: 3.0347, val acc: nan (best 0.0000), test acc: nan (best 0.0000)\n",
      "In epoch  50, loss: 2.5602, val acc: nan (best 0.0000), test acc: nan (best 0.0000)\n",
      "In epoch  75, loss: 2.3337, val acc: nan (best 0.0000), test acc: nan (best 0.0000)\n",
      "In epoch 100, loss: 2.1840, val acc: nan (best 0.0000), test acc: nan (best 0.0000)\n",
      "/home/agent/Documents/graph/GNN/dataset/DKKD_graph/0021.edges.csv\n"
     ]
    },
    {
     "name": "stderr",
     "output_type": "stream",
     "text": [
      "/home/agent/anaconda3/envs/graph/lib/python3.8/site-packages/torch/autocast_mode.py:141: UserWarning: User provided device_type of 'cuda', but CUDA is not available. Disabling\n",
      "  warnings.warn('User provided device_type of \\'cuda\\', but CUDA is not available. Disabling')\n"
     ]
    },
    {
     "name": "stdout",
     "output_type": "stream",
     "text": [
      "In epoch  25, loss: 2.9658, val acc: nan (best 0.0000), test acc: nan (best 0.0000)\n",
      "In epoch  50, loss: 2.5195, val acc: nan (best 0.0000), test acc: nan (best 0.0000)\n",
      "In epoch  75, loss: 2.1035, val acc: nan (best 0.0000), test acc: nan (best 0.0000)\n",
      "In epoch 100, loss: 1.7269, val acc: nan (best 0.0000), test acc: nan (best 0.0000)\n",
      "/home/agent/Documents/graph/GNN/dataset/DKKD_graph/0036.edges.csv\n",
      "In epoch  25, loss: 4.9945, val acc: nan (best 0.0000), test acc: nan (best 0.0000)\n"
     ]
    },
    {
     "name": "stderr",
     "output_type": "stream",
     "text": [
      "/home/agent/anaconda3/envs/graph/lib/python3.8/site-packages/torch/autocast_mode.py:141: UserWarning: User provided device_type of 'cuda', but CUDA is not available. Disabling\n",
      "  warnings.warn('User provided device_type of \\'cuda\\', but CUDA is not available. Disabling')\n"
     ]
    },
    {
     "name": "stdout",
     "output_type": "stream",
     "text": [
      "In epoch  50, loss: 4.7417, val acc: nan (best 0.0000), test acc: nan (best 0.0000)\n",
      "In epoch  75, loss: 4.4698, val acc: nan (best 0.0000), test acc: nan (best 0.0000)\n",
      "In epoch 100, loss: 4.2684, val acc: nan (best 0.0000), test acc: nan (best 0.0000)\n",
      "/home/agent/Documents/graph/GNN/dataset/DKKD_graph/0031.edges.csv\n"
     ]
    },
    {
     "name": "stderr",
     "output_type": "stream",
     "text": [
      "/home/agent/anaconda3/envs/graph/lib/python3.8/site-packages/torch/autocast_mode.py:141: UserWarning: User provided device_type of 'cuda', but CUDA is not available. Disabling\n",
      "  warnings.warn('User provided device_type of \\'cuda\\', but CUDA is not available. Disabling')\n"
     ]
    },
    {
     "name": "stdout",
     "output_type": "stream",
     "text": [
      "In epoch  25, loss: 3.3771, val acc: nan (best 0.0000), test acc: nan (best 0.0000)\n",
      "In epoch  50, loss: 3.0888, val acc: nan (best 0.0000), test acc: nan (best 0.0000)\n",
      "In epoch  75, loss: 2.8364, val acc: nan (best 0.0000), test acc: nan (best 0.0000)\n",
      "In epoch 100, loss: 2.6173, val acc: nan (best 0.0000), test acc: nan (best 0.0000)\n",
      "/home/agent/Documents/graph/GNN/dataset/DKKD_graph/0012.edges.csv\n"
     ]
    },
    {
     "name": "stderr",
     "output_type": "stream",
     "text": [
      "/home/agent/anaconda3/envs/graph/lib/python3.8/site-packages/torch/autocast_mode.py:141: UserWarning: User provided device_type of 'cuda', but CUDA is not available. Disabling\n",
      "  warnings.warn('User provided device_type of \\'cuda\\', but CUDA is not available. Disabling')\n"
     ]
    },
    {
     "name": "stdout",
     "output_type": "stream",
     "text": [
      "In epoch  25, loss: 4.4934, val acc: nan (best 0.0000), test acc: nan (best 0.0000)\n",
      "In epoch  50, loss: 4.2988, val acc: nan (best 0.0000), test acc: nan (best 0.0000)\n",
      "In epoch  75, loss: 4.0571, val acc: nan (best 0.0000), test acc: nan (best 0.0000)\n",
      "In epoch 100, loss: 3.8183, val acc: nan (best 0.0000), test acc: nan (best 0.0000)\n",
      "/home/agent/Documents/graph/GNN/dataset/DKKD_graph/0022.edges.csv\n"
     ]
    },
    {
     "name": "stderr",
     "output_type": "stream",
     "text": [
      "/home/agent/anaconda3/envs/graph/lib/python3.8/site-packages/torch/autocast_mode.py:141: UserWarning: User provided device_type of 'cuda', but CUDA is not available. Disabling\n",
      "  warnings.warn('User provided device_type of \\'cuda\\', but CUDA is not available. Disabling')\n"
     ]
    },
    {
     "name": "stdout",
     "output_type": "stream",
     "text": [
      "In epoch  25, loss: 3.1539, val acc: nan (best 0.0000), test acc: nan (best 0.0000)\n",
      "In epoch  50, loss: 2.7458, val acc: nan (best 0.0000), test acc: nan (best 0.0000)\n",
      "In epoch  75, loss: 2.4840, val acc: nan (best 0.0000), test acc: nan (best 0.0000)\n",
      "In epoch 100, loss: 2.2882, val acc: nan (best 0.0000), test acc: nan (best 0.0000)\n",
      "/home/agent/Documents/graph/GNN/dataset/DKKD_graph/0049.edges.csv\n"
     ]
    },
    {
     "name": "stderr",
     "output_type": "stream",
     "text": [
      "/home/agent/anaconda3/envs/graph/lib/python3.8/site-packages/torch/autocast_mode.py:141: UserWarning: User provided device_type of 'cuda', but CUDA is not available. Disabling\n",
      "  warnings.warn('User provided device_type of \\'cuda\\', but CUDA is not available. Disabling')\n"
     ]
    },
    {
     "name": "stdout",
     "output_type": "stream",
     "text": [
      "In epoch  25, loss: 4.5032, val acc: nan (best 0.0000), test acc: nan (best 0.0000)\n",
      "In epoch  50, loss: 4.2066, val acc: nan (best 0.0000), test acc: nan (best 0.0000)\n",
      "In epoch  75, loss: 3.9313, val acc: nan (best 0.0000), test acc: nan (best 0.0000)\n",
      "In epoch 100, loss: 3.6632, val acc: nan (best 0.0000), test acc: nan (best 0.0000)\n",
      "/home/agent/Documents/graph/GNN/dataset/DKKD_graph/0046.edges.csv\n"
     ]
    },
    {
     "name": "stderr",
     "output_type": "stream",
     "text": [
      "/home/agent/anaconda3/envs/graph/lib/python3.8/site-packages/torch/autocast_mode.py:141: UserWarning: User provided device_type of 'cuda', but CUDA is not available. Disabling\n",
      "  warnings.warn('User provided device_type of \\'cuda\\', but CUDA is not available. Disabling')\n"
     ]
    },
    {
     "name": "stdout",
     "output_type": "stream",
     "text": [
      "In epoch  25, loss: 3.6059, val acc: nan (best 0.0000), test acc: nan (best 0.0000)\n",
      "In epoch  50, loss: 3.4130, val acc: nan (best 0.0000), test acc: nan (best 0.0000)\n",
      "In epoch  75, loss: 3.2727, val acc: nan (best 0.0000), test acc: nan (best 0.0000)\n",
      "In epoch 100, loss: 3.1712, val acc: nan (best 0.0000), test acc: nan (best 0.0000)\n",
      "/home/agent/Documents/graph/GNN/dataset/DKKD_graph/0033.edges.csv\n"
     ]
    },
    {
     "name": "stderr",
     "output_type": "stream",
     "text": [
      "/home/agent/anaconda3/envs/graph/lib/python3.8/site-packages/torch/autocast_mode.py:141: UserWarning: User provided device_type of 'cuda', but CUDA is not available. Disabling\n",
      "  warnings.warn('User provided device_type of \\'cuda\\', but CUDA is not available. Disabling')\n"
     ]
    },
    {
     "name": "stdout",
     "output_type": "stream",
     "text": [
      "In epoch  25, loss: 3.3701, val acc: nan (best 0.0000), test acc: nan (best 0.0000)\n",
      "In epoch  50, loss: 3.1071, val acc: nan (best 0.0000), test acc: nan (best 0.0000)\n",
      "In epoch  75, loss: 2.8668, val acc: nan (best 0.0000), test acc: nan (best 0.0000)\n",
      "In epoch 100, loss: 2.6479, val acc: nan (best 0.0000), test acc: nan (best 0.0000)\n",
      "/home/agent/Documents/graph/GNN/dataset/DKKD_graph/0029.edges.csv\n",
      "In epoch  25, loss: 2.9144, val acc: nan (best 0.0000), test acc: nan (best 0.0000)\n"
     ]
    },
    {
     "name": "stderr",
     "output_type": "stream",
     "text": [
      "/home/agent/anaconda3/envs/graph/lib/python3.8/site-packages/torch/autocast_mode.py:141: UserWarning: User provided device_type of 'cuda', but CUDA is not available. Disabling\n",
      "  warnings.warn('User provided device_type of \\'cuda\\', but CUDA is not available. Disabling')\n"
     ]
    },
    {
     "name": "stdout",
     "output_type": "stream",
     "text": [
      "In epoch  50, loss: 2.2551, val acc: nan (best 0.0000), test acc: nan (best 0.0000)\n",
      "In epoch  75, loss: 1.8954, val acc: nan (best 0.0000), test acc: nan (best 0.0000)\n",
      "In epoch 100, loss: 1.6768, val acc: nan (best 0.0000), test acc: nan (best 0.0000)\n",
      "/home/agent/Documents/graph/GNN/dataset/DKKD_graph/0019.edges.csv\n"
     ]
    },
    {
     "name": "stderr",
     "output_type": "stream",
     "text": [
      "/home/agent/anaconda3/envs/graph/lib/python3.8/site-packages/torch/autocast_mode.py:141: UserWarning: User provided device_type of 'cuda', but CUDA is not available. Disabling\n",
      "  warnings.warn('User provided device_type of \\'cuda\\', but CUDA is not available. Disabling')\n"
     ]
    },
    {
     "name": "stdout",
     "output_type": "stream",
     "text": [
      "In epoch  25, loss: 1.3349, val acc: nan (best 0.0000), test acc: nan (best 0.0000)\n",
      "In epoch  50, loss: 0.0000, val acc: nan (best 0.0000), test acc: nan (best 0.0000)\n",
      "In epoch  75, loss: 0.0000, val acc: nan (best 0.0000), test acc: nan (best 0.0000)\n",
      "In epoch 100, loss: 0.0000, val acc: nan (best 0.0000), test acc: nan (best 0.0000)\n",
      "/home/agent/Documents/graph/GNN/dataset/DKKD_graph/0006.edges.csv\n"
     ]
    },
    {
     "name": "stderr",
     "output_type": "stream",
     "text": [
      "/home/agent/anaconda3/envs/graph/lib/python3.8/site-packages/torch/autocast_mode.py:141: UserWarning: User provided device_type of 'cuda', but CUDA is not available. Disabling\n",
      "  warnings.warn('User provided device_type of \\'cuda\\', but CUDA is not available. Disabling')\n"
     ]
    },
    {
     "name": "stdout",
     "output_type": "stream",
     "text": [
      "In epoch  25, loss: 5.6646, val acc: nan (best 0.0000), test acc: nan (best 0.0000)\n",
      "In epoch  50, loss: 5.3294, val acc: nan (best 0.0000), test acc: nan (best 0.0000)\n",
      "In epoch  75, loss: 5.0719, val acc: nan (best 0.0000), test acc: nan (best 0.0000)\n",
      "In epoch 100, loss: 4.8515, val acc: nan (best 0.0000), test acc: nan (best 0.0000)\n",
      "/home/agent/Documents/graph/GNN/dataset/DKKD_graph/0040.edges.csv\n"
     ]
    },
    {
     "name": "stderr",
     "output_type": "stream",
     "text": [
      "/home/agent/anaconda3/envs/graph/lib/python3.8/site-packages/torch/autocast_mode.py:141: UserWarning: User provided device_type of 'cuda', but CUDA is not available. Disabling\n",
      "  warnings.warn('User provided device_type of \\'cuda\\', but CUDA is not available. Disabling')\n"
     ]
    },
    {
     "name": "stdout",
     "output_type": "stream",
     "text": [
      "In epoch  25, loss: 4.2045, val acc: nan (best 0.0000), test acc: nan (best 0.0000)\n",
      "In epoch  50, loss: 3.9505, val acc: nan (best 0.0000), test acc: nan (best 0.0000)\n",
      "In epoch  75, loss: 3.7065, val acc: nan (best 0.0000), test acc: nan (best 0.0000)\n",
      "In epoch 100, loss: 3.4886, val acc: nan (best 0.0000), test acc: nan (best 0.0000)\n",
      "/home/agent/Documents/graph/GNN/dataset/DKKD_graph/0016.edges.csv\n"
     ]
    },
    {
     "name": "stderr",
     "output_type": "stream",
     "text": [
      "/home/agent/anaconda3/envs/graph/lib/python3.8/site-packages/torch/autocast_mode.py:141: UserWarning: User provided device_type of 'cuda', but CUDA is not available. Disabling\n",
      "  warnings.warn('User provided device_type of \\'cuda\\', but CUDA is not available. Disabling')\n"
     ]
    },
    {
     "name": "stdout",
     "output_type": "stream",
     "text": [
      "In epoch  25, loss: 3.4031, val acc: nan (best 0.0000), test acc: nan (best 0.0000)\n",
      "In epoch  50, loss: 2.9542, val acc: nan (best 0.0000), test acc: nan (best 0.0000)\n",
      "In epoch  75, loss: 2.3510, val acc: nan (best 0.0000), test acc: nan (best 0.0000)\n",
      "In epoch 100, loss: 1.7073, val acc: nan (best 0.0000), test acc: nan (best 0.0000)\n",
      "/home/agent/Documents/graph/GNN/dataset/DKKD_graph/0024.edges.csv\n"
     ]
    },
    {
     "name": "stderr",
     "output_type": "stream",
     "text": [
      "/home/agent/anaconda3/envs/graph/lib/python3.8/site-packages/torch/autocast_mode.py:141: UserWarning: User provided device_type of 'cuda', but CUDA is not available. Disabling\n",
      "  warnings.warn('User provided device_type of \\'cuda\\', but CUDA is not available. Disabling')\n"
     ]
    },
    {
     "name": "stdout",
     "output_type": "stream",
     "text": [
      "In epoch  25, loss: 3.8064, val acc: nan (best 0.0000), test acc: nan (best 0.0000)\n",
      "In epoch  50, loss: 3.6462, val acc: nan (best 0.0000), test acc: nan (best 0.0000)\n",
      "In epoch  75, loss: 3.5115, val acc: nan (best 0.0000), test acc: nan (best 0.0000)\n",
      "In epoch 100, loss: 3.4033, val acc: nan (best 0.0000), test acc: nan (best 0.0000)\n",
      "/home/agent/Documents/graph/GNN/dataset/DKKD_graph/0025.edges.csv\n"
     ]
    },
    {
     "name": "stderr",
     "output_type": "stream",
     "text": [
      "/home/agent/anaconda3/envs/graph/lib/python3.8/site-packages/torch/autocast_mode.py:141: UserWarning: User provided device_type of 'cuda', but CUDA is not available. Disabling\n",
      "  warnings.warn('User provided device_type of \\'cuda\\', but CUDA is not available. Disabling')\n"
     ]
    },
    {
     "name": "stdout",
     "output_type": "stream",
     "text": [
      "In epoch  25, loss: 4.6284, val acc: nan (best 0.0000), test acc: nan (best 0.0000)\n",
      "In epoch  50, loss: 4.4710, val acc: nan (best 0.0000), test acc: nan (best 0.0000)\n",
      "In epoch  75, loss: 4.3426, val acc: nan (best 0.0000), test acc: nan (best 0.0000)\n",
      "In epoch 100, loss: 4.2329, val acc: nan (best 0.0000), test acc: nan (best 0.0000)\n",
      "/home/agent/Documents/graph/GNN/dataset/DKKD_graph/0050.edges.csv\n",
      "In epoch  25, loss: 3.7194, val acc: nan (best 0.0000), test acc: nan (best 0.0000)\n"
     ]
    },
    {
     "name": "stderr",
     "output_type": "stream",
     "text": [
      "/home/agent/anaconda3/envs/graph/lib/python3.8/site-packages/torch/autocast_mode.py:141: UserWarning: User provided device_type of 'cuda', but CUDA is not available. Disabling\n",
      "  warnings.warn('User provided device_type of \\'cuda\\', but CUDA is not available. Disabling')\n"
     ]
    },
    {
     "name": "stdout",
     "output_type": "stream",
     "text": [
      "In epoch  50, loss: 3.5146, val acc: nan (best 0.0000), test acc: nan (best 0.0000)\n",
      "In epoch  75, loss: 3.3533, val acc: nan (best 0.0000), test acc: nan (best 0.0000)\n",
      "In epoch 100, loss: 3.2264, val acc: nan (best 0.0000), test acc: nan (best 0.0000)\n",
      "/home/agent/Documents/graph/GNN/dataset/DKKD_graph/0037.edges.csv\n"
     ]
    },
    {
     "name": "stderr",
     "output_type": "stream",
     "text": [
      "/home/agent/anaconda3/envs/graph/lib/python3.8/site-packages/torch/autocast_mode.py:141: UserWarning: User provided device_type of 'cuda', but CUDA is not available. Disabling\n",
      "  warnings.warn('User provided device_type of \\'cuda\\', but CUDA is not available. Disabling')\n"
     ]
    },
    {
     "name": "stdout",
     "output_type": "stream",
     "text": [
      "In epoch  25, loss: 4.4106, val acc: nan (best 0.0000), test acc: nan (best 0.0000)\n",
      "In epoch  50, loss: 4.2722, val acc: nan (best 0.0000), test acc: nan (best 0.0000)\n",
      "In epoch  75, loss: 4.1590, val acc: nan (best 0.0000), test acc: nan (best 0.0000)\n",
      "In epoch 100, loss: 4.0595, val acc: nan (best 0.0000), test acc: nan (best 0.0000)\n",
      "/home/agent/Documents/graph/GNN/dataset/DKKD_graph/0003.edges.csv\n"
     ]
    },
    {
     "name": "stderr",
     "output_type": "stream",
     "text": [
      "/home/agent/anaconda3/envs/graph/lib/python3.8/site-packages/torch/autocast_mode.py:141: UserWarning: User provided device_type of 'cuda', but CUDA is not available. Disabling\n",
      "  warnings.warn('User provided device_type of \\'cuda\\', but CUDA is not available. Disabling')\n"
     ]
    },
    {
     "name": "stdout",
     "output_type": "stream",
     "text": [
      "In epoch  25, loss: 5.7653, val acc: nan (best 0.0000), test acc: nan (best 0.0000)\n",
      "In epoch  50, loss: 4.3218, val acc: nan (best 0.0000), test acc: nan (best 0.0000)\n",
      "In epoch  75, loss: 2.7412, val acc: nan (best 0.0000), test acc: nan (best 0.0000)\n",
      "In epoch 100, loss: 2.4808, val acc: nan (best 0.0000), test acc: nan (best 0.0000)\n",
      "/home/agent/Documents/graph/GNN/dataset/DKKD_graph/0007.edges.csv\n"
     ]
    },
    {
     "name": "stderr",
     "output_type": "stream",
     "text": [
      "/home/agent/anaconda3/envs/graph/lib/python3.8/site-packages/torch/autocast_mode.py:141: UserWarning: User provided device_type of 'cuda', but CUDA is not available. Disabling\n",
      "  warnings.warn('User provided device_type of \\'cuda\\', but CUDA is not available. Disabling')\n"
     ]
    },
    {
     "name": "stdout",
     "output_type": "stream",
     "text": [
      "In epoch  25, loss: 2.1724, val acc: nan (best 0.0000), test acc: nan (best 0.0000)\n",
      "In epoch  50, loss: 1.6093, val acc: nan (best 0.0000), test acc: nan (best 0.0000)\n",
      "In epoch  75, loss: 1.4506, val acc: nan (best 0.0000), test acc: nan (best 0.0000)\n",
      "In epoch 100, loss: 1.3577, val acc: nan (best 0.0000), test acc: nan (best 0.0000)\n",
      "/home/agent/Documents/graph/GNN/dataset/DKKD_graph/0017.edges.csv\n"
     ]
    },
    {
     "name": "stderr",
     "output_type": "stream",
     "text": [
      "/home/agent/anaconda3/envs/graph/lib/python3.8/site-packages/torch/autocast_mode.py:141: UserWarning: User provided device_type of 'cuda', but CUDA is not available. Disabling\n",
      "  warnings.warn('User provided device_type of \\'cuda\\', but CUDA is not available. Disabling')\n"
     ]
    },
    {
     "name": "stdout",
     "output_type": "stream",
     "text": [
      "In epoch  25, loss: 3.4793, val acc: nan (best 0.0000), test acc: nan (best 0.0000)\n",
      "In epoch  50, loss: 3.1648, val acc: nan (best 0.0000), test acc: nan (best 0.0000)\n",
      "In epoch  75, loss: 2.8741, val acc: nan (best 0.0000), test acc: nan (best 0.0000)\n",
      "In epoch 100, loss: 2.6283, val acc: nan (best 0.0000), test acc: nan (best 0.0000)\n",
      "/home/agent/Documents/graph/GNN/dataset/DKKD_graph/0004.edges.csv\n"
     ]
    },
    {
     "name": "stderr",
     "output_type": "stream",
     "text": [
      "/home/agent/anaconda3/envs/graph/lib/python3.8/site-packages/torch/autocast_mode.py:141: UserWarning: User provided device_type of 'cuda', but CUDA is not available. Disabling\n",
      "  warnings.warn('User provided device_type of \\'cuda\\', but CUDA is not available. Disabling')\n"
     ]
    },
    {
     "name": "stdout",
     "output_type": "stream",
     "text": [
      "In epoch  25, loss: 6.1043, val acc: nan (best 0.0000), test acc: nan (best 0.0000)\n",
      "In epoch  50, loss: 3.2374, val acc: nan (best 0.0000), test acc: nan (best 0.0000)\n",
      "In epoch  75, loss: 2.6414, val acc: nan (best 0.0000), test acc: nan (best 0.0000)\n",
      "In epoch 100, loss: 2.3303, val acc: nan (best 0.0000), test acc: nan (best 0.0000)\n",
      "/home/agent/Documents/graph/GNN/dataset/DKKD_graph/0002.edges.csv\n"
     ]
    },
    {
     "name": "stderr",
     "output_type": "stream",
     "text": [
      "/home/agent/anaconda3/envs/graph/lib/python3.8/site-packages/torch/autocast_mode.py:141: UserWarning: User provided device_type of 'cuda', but CUDA is not available. Disabling\n",
      "  warnings.warn('User provided device_type of \\'cuda\\', but CUDA is not available. Disabling')\n"
     ]
    },
    {
     "name": "stdout",
     "output_type": "stream",
     "text": [
      "In epoch  25, loss: 3.0626, val acc: nan (best 0.0000), test acc: nan (best 0.0000)\n",
      "In epoch  50, loss: 2.8232, val acc: nan (best 0.0000), test acc: nan (best 0.0000)\n",
      "In epoch  75, loss: 2.6468, val acc: nan (best 0.0000), test acc: nan (best 0.0000)\n",
      "In epoch 100, loss: 2.5202, val acc: nan (best 0.0000), test acc: nan (best 0.0000)\n",
      "/home/agent/Documents/graph/GNN/dataset/DKKD_graph/0026.edges.csv\n",
      "In epoch  25, loss: 3.4177, val acc: nan (best 0.0000), test acc: nan (best 0.0000)\n"
     ]
    },
    {
     "name": "stderr",
     "output_type": "stream",
     "text": [
      "/home/agent/anaconda3/envs/graph/lib/python3.8/site-packages/torch/autocast_mode.py:141: UserWarning: User provided device_type of 'cuda', but CUDA is not available. Disabling\n",
      "  warnings.warn('User provided device_type of \\'cuda\\', but CUDA is not available. Disabling')\n"
     ]
    },
    {
     "name": "stdout",
     "output_type": "stream",
     "text": [
      "In epoch  50, loss: 3.2067, val acc: nan (best 0.0000), test acc: nan (best 0.0000)\n",
      "In epoch  75, loss: 3.0654, val acc: nan (best 0.0000), test acc: nan (best 0.0000)\n",
      "In epoch 100, loss: 2.9726, val acc: nan (best 0.0000), test acc: nan (best 0.0000)\n",
      "/home/agent/Documents/graph/GNN/dataset/DKKD_graph/0010.edges.csv\n",
      "In epoch  25, loss: 2.8899, val acc: nan (best 0.0000), test acc: nan (best 0.0000)\n"
     ]
    },
    {
     "name": "stderr",
     "output_type": "stream",
     "text": [
      "/home/agent/anaconda3/envs/graph/lib/python3.8/site-packages/torch/autocast_mode.py:141: UserWarning: User provided device_type of 'cuda', but CUDA is not available. Disabling\n",
      "  warnings.warn('User provided device_type of \\'cuda\\', but CUDA is not available. Disabling')\n"
     ]
    },
    {
     "name": "stdout",
     "output_type": "stream",
     "text": [
      "In epoch  50, loss: 2.7907, val acc: nan (best 0.0000), test acc: nan (best 0.0000)\n",
      "In epoch  75, loss: 2.7349, val acc: nan (best 0.0000), test acc: nan (best 0.0000)\n",
      "In epoch 100, loss: 2.6931, val acc: nan (best 0.0000), test acc: nan (best 0.0000)\n",
      "/home/agent/Documents/graph/GNN/dataset/DKKD_graph/0041.edges.csv\n",
      "In epoch  25, loss: 2.6632, val acc: nan (best 0.0000), test acc: nan (best 0.0000)\n"
     ]
    },
    {
     "name": "stderr",
     "output_type": "stream",
     "text": [
      "/home/agent/anaconda3/envs/graph/lib/python3.8/site-packages/torch/autocast_mode.py:141: UserWarning: User provided device_type of 'cuda', but CUDA is not available. Disabling\n",
      "  warnings.warn('User provided device_type of \\'cuda\\', but CUDA is not available. Disabling')\n"
     ]
    },
    {
     "name": "stdout",
     "output_type": "stream",
     "text": [
      "In epoch  50, loss: 2.6175, val acc: nan (best 0.0000), test acc: nan (best 0.0000)\n",
      "In epoch  75, loss: 2.5902, val acc: nan (best 0.0000), test acc: nan (best 0.0000)\n",
      "In epoch 100, loss: 2.5724, val acc: nan (best 0.0000), test acc: nan (best 0.0000)\n",
      "/home/agent/Documents/graph/GNN/dataset/DKKD_graph/0023.edges.csv\n",
      "In epoch  25, loss: 2.7929, val acc: nan (best 0.0000), test acc: nan (best 0.0000)\n"
     ]
    },
    {
     "name": "stderr",
     "output_type": "stream",
     "text": [
      "/home/agent/anaconda3/envs/graph/lib/python3.8/site-packages/torch/autocast_mode.py:141: UserWarning: User provided device_type of 'cuda', but CUDA is not available. Disabling\n",
      "  warnings.warn('User provided device_type of \\'cuda\\', but CUDA is not available. Disabling')\n"
     ]
    },
    {
     "name": "stdout",
     "output_type": "stream",
     "text": [
      "In epoch  50, loss: 2.3391, val acc: nan (best 0.0000), test acc: nan (best 0.0000)\n",
      "In epoch  75, loss: 1.9159, val acc: nan (best 0.0000), test acc: nan (best 0.0000)\n",
      "In epoch 100, loss: 1.5355, val acc: nan (best 0.0000), test acc: nan (best 0.0000)\n",
      "/home/agent/Documents/graph/GNN/dataset/DKKD_graph/0018.edges.csv\n"
     ]
    },
    {
     "name": "stderr",
     "output_type": "stream",
     "text": [
      "/home/agent/anaconda3/envs/graph/lib/python3.8/site-packages/torch/autocast_mode.py:141: UserWarning: User provided device_type of 'cuda', but CUDA is not available. Disabling\n",
      "  warnings.warn('User provided device_type of \\'cuda\\', but CUDA is not available. Disabling')\n"
     ]
    },
    {
     "name": "stdout",
     "output_type": "stream",
     "text": [
      "In epoch  25, loss: 3.6679, val acc: nan (best 0.0000), test acc: nan (best 0.0000)\n",
      "In epoch  50, loss: 3.3574, val acc: nan (best 0.0000), test acc: nan (best 0.0000)\n",
      "In epoch  75, loss: 3.0716, val acc: nan (best 0.0000), test acc: nan (best 0.0000)\n",
      "In epoch 100, loss: 2.8112, val acc: nan (best 0.0000), test acc: nan (best 0.0000)\n",
      "/home/agent/Documents/graph/GNN/dataset/DKKD_graph/0043.edges.csv\n"
     ]
    },
    {
     "name": "stderr",
     "output_type": "stream",
     "text": [
      "/home/agent/anaconda3/envs/graph/lib/python3.8/site-packages/torch/autocast_mode.py:141: UserWarning: User provided device_type of 'cuda', but CUDA is not available. Disabling\n",
      "  warnings.warn('User provided device_type of \\'cuda\\', but CUDA is not available. Disabling')\n"
     ]
    },
    {
     "name": "stdout",
     "output_type": "stream",
     "text": [
      "In epoch  25, loss: 5.1229, val acc: nan (best 0.0000), test acc: nan (best 0.0000)\n",
      "In epoch  50, loss: 4.8518, val acc: nan (best 0.0000), test acc: nan (best 0.0000)\n",
      "In epoch  75, loss: 4.6087, val acc: nan (best 0.0000), test acc: nan (best 0.0000)\n",
      "In epoch 100, loss: 4.3949, val acc: nan (best 0.0000), test acc: nan (best 0.0000)\n",
      "/home/agent/Documents/graph/GNN/dataset/DKKD_graph/0044.edges.csv\n",
      "In epoch  25, loss: 2.9760, val acc: nan (best 0.0000), test acc: nan (best 0.0000)\n"
     ]
    },
    {
     "name": "stderr",
     "output_type": "stream",
     "text": [
      "/home/agent/anaconda3/envs/graph/lib/python3.8/site-packages/torch/autocast_mode.py:141: UserWarning: User provided device_type of 'cuda', but CUDA is not available. Disabling\n",
      "  warnings.warn('User provided device_type of \\'cuda\\', but CUDA is not available. Disabling')\n"
     ]
    },
    {
     "name": "stdout",
     "output_type": "stream",
     "text": [
      "In epoch  50, loss: 2.8631, val acc: nan (best 0.0000), test acc: nan (best 0.0000)\n",
      "In epoch  75, loss: 2.8092, val acc: nan (best 0.0000), test acc: nan (best 0.0000)\n",
      "In epoch 100, loss: 2.7807, val acc: nan (best 0.0000), test acc: nan (best 0.0000)\n",
      "/home/agent/Documents/graph/GNN/dataset/DKKD_graph/0028.edges.csv\n"
     ]
    },
    {
     "name": "stderr",
     "output_type": "stream",
     "text": [
      "/home/agent/anaconda3/envs/graph/lib/python3.8/site-packages/torch/autocast_mode.py:141: UserWarning: User provided device_type of 'cuda', but CUDA is not available. Disabling\n",
      "  warnings.warn('User provided device_type of \\'cuda\\', but CUDA is not available. Disabling')\n"
     ]
    },
    {
     "name": "stdout",
     "output_type": "stream",
     "text": [
      "In epoch  25, loss: 3.9277, val acc: nan (best 0.0000), test acc: nan (best 0.0000)\n",
      "In epoch  50, loss: 3.6355, val acc: nan (best 0.0000), test acc: nan (best 0.0000)\n",
      "In epoch  75, loss: 3.3678, val acc: nan (best 0.0000), test acc: nan (best 0.0000)\n",
      "In epoch 100, loss: 3.1225, val acc: nan (best 0.0000), test acc: nan (best 0.0000)\n",
      "/home/agent/Documents/graph/GNN/dataset/DKKD_graph/0014.edges.csv\n"
     ]
    },
    {
     "name": "stderr",
     "output_type": "stream",
     "text": [
      "/home/agent/anaconda3/envs/graph/lib/python3.8/site-packages/torch/autocast_mode.py:141: UserWarning: User provided device_type of 'cuda', but CUDA is not available. Disabling\n",
      "  warnings.warn('User provided device_type of \\'cuda\\', but CUDA is not available. Disabling')\n"
     ]
    },
    {
     "name": "stdout",
     "output_type": "stream",
     "text": [
      "In epoch  25, loss: 7.5329, val acc: nan (best 0.0000), test acc: nan (best 0.0000)\n",
      "In epoch  50, loss: 7.2380, val acc: nan (best 0.0000), test acc: nan (best 0.0000)\n",
      "In epoch  75, loss: 6.9628, val acc: nan (best 0.0000), test acc: nan (best 0.0000)\n",
      "In epoch 100, loss: 6.7022, val acc: nan (best 0.0000), test acc: nan (best 0.0000)\n",
      "/home/agent/Documents/graph/GNN/dataset/DKKD_graph/0039.edges.csv\n",
      "In epoch  25, loss: 2.9773, val acc: nan (best 0.0000), test acc: nan (best 0.0000)\n"
     ]
    },
    {
     "name": "stderr",
     "output_type": "stream",
     "text": [
      "/home/agent/anaconda3/envs/graph/lib/python3.8/site-packages/torch/autocast_mode.py:141: UserWarning: User provided device_type of 'cuda', but CUDA is not available. Disabling\n",
      "  warnings.warn('User provided device_type of \\'cuda\\', but CUDA is not available. Disabling')\n"
     ]
    },
    {
     "name": "stdout",
     "output_type": "stream",
     "text": [
      "In epoch  50, loss: 2.9143, val acc: nan (best 0.0000), test acc: nan (best 0.0000)\n",
      "In epoch  75, loss: 2.8838, val acc: nan (best 0.0000), test acc: nan (best 0.0000)\n",
      "In epoch 100, loss: 2.8683, val acc: nan (best 0.0000), test acc: nan (best 0.0000)\n",
      "/home/agent/Documents/graph/GNN/dataset/DKKD_graph/0038.edges.csv\n"
     ]
    },
    {
     "name": "stderr",
     "output_type": "stream",
     "text": [
      "/home/agent/anaconda3/envs/graph/lib/python3.8/site-packages/torch/autocast_mode.py:141: UserWarning: User provided device_type of 'cuda', but CUDA is not available. Disabling\n",
      "  warnings.warn('User provided device_type of \\'cuda\\', but CUDA is not available. Disabling')\n"
     ]
    },
    {
     "name": "stdout",
     "output_type": "stream",
     "text": [
      "In epoch  25, loss: 3.5870, val acc: nan (best 0.0000), test acc: nan (best 0.0000)\n",
      "In epoch  50, loss: 3.3392, val acc: nan (best 0.0000), test acc: nan (best 0.0000)\n",
      "In epoch  75, loss: 3.1268, val acc: nan (best 0.0000), test acc: nan (best 0.0000)\n",
      "In epoch 100, loss: 2.9470, val acc: nan (best 0.0000), test acc: nan (best 0.0000)\n"
     ]
    }
   ],
   "source": [
    "for i in range(dataset.__len__()):\n",
    "    g = dataset[i]\n",
    "    train(g, model, 100)"
   ]
  },
  {
   "cell_type": "code",
   "execution_count": null,
   "metadata": {},
   "outputs": [],
   "source": []
  }
 ],
 "metadata": {
  "kernelspec": {
   "display_name": "Python 3.8.13 ('graph')",
   "language": "python",
   "name": "python3"
  },
  "language_info": {
   "codemirror_mode": {
    "name": "ipython",
    "version": 3
   },
   "file_extension": ".py",
   "mimetype": "text/x-python",
   "name": "python",
   "nbconvert_exporter": "python",
   "pygments_lexer": "ipython3",
   "version": "3.9.12"
  },
  "orig_nbformat": 4,
  "vscode": {
   "interpreter": {
    "hash": "d620334016f14c166285ee8528a11ee9bc398b5cacff66726993ff9e9a83d46b"
   }
  }
 },
 "nbformat": 4,
 "nbformat_minor": 2
}
