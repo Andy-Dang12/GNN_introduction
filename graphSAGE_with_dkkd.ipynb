{
 "cells": [
  {
   "cell_type": "code",
   "execution_count": 1,
   "metadata": {},
   "outputs": [],
   "source": [
    "import torch, dgl\n",
    "import torch.nn as nn\n",
    "import torch.nn.functional as F\n",
    "import torch.optim as optim\n",
    "\n",
    "from dgl.data import DGLDataset\n",
    "import dgl.function as fn\n",
    "import re\n",
    "import numpy as np\n",
    "import pandas as pd\n",
    "import os.path as osp\n",
    "from colorama import Fore\n",
    "from glob import glob\n",
    "from random import shuffle\n",
    "from copy import deepcopy\n",
    "import warnings\n",
    "warnings.filterwarnings('ignore')"
   ]
  },
  {
   "cell_type": "markdown",
   "metadata": {},
   "source": [
    "##### 1. graphSAGE"
   ]
  },
  {
   "cell_type": "code",
   "execution_count": 2,
   "metadata": {},
   "outputs": [],
   "source": [
    "class SAGEConv(nn.Module):\n",
    "    \"\"\"Graph convolution module used by the GraphSAGE model.\n",
    "\n",
    "    Parameters\n",
    "    ----------\n",
    "    in_feat : int\n",
    "        Input feature size.\n",
    "    out_feat : int\n",
    "        Output feature size.\n",
    "    \"\"\"\n",
    "    \n",
    "    def __init__(self, in_feat:int, out_feat:int):\n",
    "        super(SAGEConv, self).__init__()\n",
    "        # A linear submodule for projecting the input and neighbor feature to the output.\n",
    "        self.linear = nn.Linear(in_feat * 2, out_feat)\n",
    "\n",
    "    def forward(self, g, h):\n",
    "        \"\"\"Forward computation\n",
    "\n",
    "        Parameters\n",
    "        ----------\n",
    "        g : Graph\n",
    "            The input graph.\n",
    "        h : Tensor\n",
    "            The input node feature.\n",
    "        \"\"\"\n",
    "        with g.local_scope():\n",
    "            g.ndata['h'] = h\n",
    "            # update_all is a message passing API.\n",
    "            g.update_all(message_func = fn.copy_u('h', 'm'), \n",
    "                         reduce_func = fn.mean('m', 'h_N'))\n",
    "                        #  reduce_func = fn.max('m', 'h_N'))\n",
    "                        #  reduce_func = fn.sum('m', 'h_N'))\n",
    "                        #  reduce_func = fn.sum('m', 'h_N'))\n",
    "            h_N = g.ndata['h_N']\n",
    "            h_total = torch.cat([h, h_N], dim=1)\n",
    "            return self.linear(h_total)\n",
    "\n",
    "\n",
    "class GraphSAGE(nn.Module):\n",
    "    def __init__(self, in_feats, h_feats, num_classes):\n",
    "        super(GraphSAGE, self).__init__()\n",
    "        self.conv1 = SAGEConv(in_feats, h_feats)\n",
    "        self.conv2 = SAGEConv(h_feats, num_classes)\n",
    "\n",
    "    def forward(self, g, in_feat):\n",
    "        h = self.conv1(g, in_feat)\n",
    "        h = F.relu(h)\n",
    "        h = self.conv2(g, h)\n",
    "        return h"
   ]
  },
  {
   "cell_type": "markdown",
   "metadata": {},
   "source": [
    "##### 2. Graph Dataset"
   ]
  },
  {
   "cell_type": "code",
   "execution_count": 3,
   "metadata": {},
   "outputs": [],
   "source": [
    "class DkkdGraphDataset(DGLDataset):\n",
    "    def __init__(self, root:str='/home/agent/Documents/graph/GNN/dataset/DKKD_graph'):\n",
    "        super().__init__(name='dataset/DKKD_graph')\n",
    "        self.root = root\n",
    "        self.edges = glob(osp.join(root, '*.edges.csv'))\n",
    "        self.nodes_feat = glob(osp.join(root, '*.nfeat.npy'))\n",
    "        self.nodes_label = glob(osp.join(root, '*.idx.csv'))\n",
    "    \n",
    "    @staticmethod\n",
    "    def _get_n_nodes(nodes_label:pd.DataFrame) -> int:\n",
    "        r\"\"\"\n",
    "        tính và kiểm tra số thứ tự của node\n",
    "        \"\"\"\n",
    "        n_nodes = nodes_label['Id'].to_list()\n",
    "        for i, idx in enumerate(n_nodes):\n",
    "            assert i == idx, 'i != idx'\n",
    "        return len(n_nodes)\n",
    "    \n",
    "    \n",
    "    def __len__(self): return len(self.edges)\n",
    "    \n",
    "    def __getitem__(self, i):\n",
    "        edgep = self.edges[i]\n",
    "        nodes_feat = np.load(re.sub('.edges.csv$', '.nfeat.npy', edgep))\n",
    "        nodes_label = pd.read_csv(\n",
    "            re.sub('.edges.csv$', '.idx.csv', edgep), encoding='utf-8')\n",
    "        n_nodes = self._get_n_nodes(nodes_label)\n",
    "        \n",
    "        nodes_label = nodes_label['label'].astype('category').cat.codes.to_list()\n",
    "        edge = pd.read_csv(edgep, encoding='utf-8')\n",
    "        \n",
    "        g = dgl.graph((edge['src'], edge['dst']), num_nodes=n_nodes)\n",
    "        g = dgl.to_bidirected(g)\n",
    "        g = dgl.remove_self_loop(g)\n",
    "        g.ndata['feat' ] = torch.from_numpy(nodes_feat )\n",
    "        g.ndata['label'] = torch.tensor    (nodes_label)\n",
    "        g.ndata['train_mask'] = torch.ones (n_nodes, dtype=torch.bool)\n",
    "        g.ndata['val_mask'  ] = torch.zeros(n_nodes, dtype=torch.bool)\n",
    "        g.ndata['test_mask' ] = torch.zeros(n_nodes, dtype=torch.bool)\n",
    "        \n",
    "        return g\n",
    "    \n",
    "    def process(self): ...\n",
    "dataset = DkkdGraphDataset()"
   ]
  },
  {
   "cell_type": "markdown",
   "metadata": {},
   "source": [
    "##### 3. Training function"
   ]
  },
  {
   "cell_type": "code",
   "execution_count": 8,
   "metadata": {},
   "outputs": [],
   "source": [
    "def train(dataset:DGLDataset, model:nn.Module, epochs:int, lr=0.001):\n",
    "    optimizer = optim.Adam(model.parameters(), lr=lr)\n",
    "    all_logits = []\n",
    "    best_acc = 0.9360\n",
    "    \n",
    "    for epoch in range(1, epochs+1):\n",
    "        idxs = list(range(len(dataset)));shuffle(idxs)\n",
    "        acc = 0\n",
    "        for i in idxs:\n",
    "            g = dataset[i]\n",
    "            # g = g.to(device)\n",
    "            features = g.ndata['feat'].float()\n",
    "            labels = g.ndata['label']\n",
    "            \n",
    "            logits = model(g, features)\n",
    "            pred = logits.argmax(1)\n",
    "            loss = F.cross_entropy(logits, labels)\n",
    "            acc += (pred == labels).float().mean()\n",
    "            \n",
    "            optimizer.zero_grad()\n",
    "            loss.backward()\n",
    "            optimizer.step()\n",
    "            all_logits.append(logits.detach())\n",
    "        \n",
    "        acc = 1.*acc/len(dataset)\n",
    "        if acc >= best_acc:\n",
    "            best_acc = acc\n",
    "            best_model = deepcopy(model)\n",
    "            torch.save(model.state_dict(), 'weights/graphSAGE_best40.pth')\n",
    "            \n",
    "        if not epoch%32:\n",
    "            print('Epoch {:<3d}: loss: {:.4f}, best {:.4f}, acc: {:.4f})'.format(\n",
    "                            epoch, loss, best_acc, acc))\n",
    "\n",
    "    torch.save(best_model.state_dict(), 'weights/graphSAGE_best40.pth')\n",
    "    print('Last epoch {:<3d}, loss: {:.4f}, (best {:.4f}), acc: {:.4f})'.format(\n",
    "                        epoch, loss, best_acc, acc))\n",
    "    \n",
    "    return best_model, best_acc"
   ]
  },
  {
   "cell_type": "code",
   "execution_count": 5,
   "metadata": {},
   "outputs": [
    {
     "name": "stderr",
     "output_type": "stream",
     "text": [
      "Some weights of the model checkpoint at vinai/phobert-base were not used when initializing RobertaModel: ['lm_head.decoder.bias', 'lm_head.bias', 'lm_head.decoder.weight', 'lm_head.dense.weight', 'lm_head.dense.bias', 'lm_head.layer_norm.weight', 'lm_head.layer_norm.bias']\n",
      "- This IS expected if you are initializing RobertaModel from the checkpoint of a model trained on another task or with another architecture (e.g. initializing a BertForSequenceClassification model from a BertForPreTraining model).\n",
      "- This IS NOT expected if you are initializing RobertaModel from the checkpoint of a model that you expect to be exactly identical (initializing a BertForSequenceClassification model from a BertForSequenceClassification model).\n"
     ]
    },
    {
     "name": "stdout",
     "output_type": "stream",
     "text": [
      "num classes =  48\n"
     ]
    }
   ],
   "source": [
    "from dkkd_create_graph import create_cls_to_idx\n",
    "classes, class_to_idx = create_cls_to_idx('dataset/DKKD/labels.txt')\n",
    "\n",
    "num_classes = len(classes)  #48\n",
    "print('num classes = ', num_classes)\n",
    "model = GraphSAGE(772, 128, num_classes) # "
   ]
  },
  {
   "cell_type": "code",
   "execution_count": 11,
   "metadata": {},
   "outputs": [
    {
     "name": "stdout",
     "output_type": "stream",
     "text": [
      "Epoch 32 : loss: 0.1662, best 0.9308, acc: 0.9233)\n",
      "Epoch 64 : loss: 0.3820, best 0.9336, acc: 0.9231)\n",
      "Epoch 96 : loss: 0.1299, best 0.9336, acc: 0.9289)\n",
      "Epoch 128: loss: 0.2548, best 0.9336, acc: 0.9301)\n",
      "Epoch 160: loss: 0.1548, best 0.9336, acc: 0.9292)\n",
      "Epoch 192: loss: 0.0058, best 0.9336, acc: 0.9280)\n"
     ]
    }
   ],
   "source": [
    "best_model, best_acc = train(dataset, model, 100000, lr=0.0009)\n",
    "torch.save(best_model.state_dict(), 'weights/graphSAGE_best40.pth')\n",
    "print(best_acc)"
   ]
  },
  {
   "cell_type": "code",
   "execution_count": 13,
   "metadata": {},
   "outputs": [],
   "source": [
    "torch.save(best_model.state_dict(), 'weights/graphSAGE_best40.pth')"
   ]
  },
  {
   "cell_type": "code",
   "execution_count": 6,
   "metadata": {},
   "outputs": [
    {
     "name": "stdout",
     "output_type": "stream",
     "text": [
      "/home/agent/Documents/graph/GNN/dataset/DKKD_graph/0015.edges.csv\n"
     ]
    },
    {
     "name": "stderr",
     "output_type": "stream",
     "text": [
      "/home/agent/anaconda3/envs/graph/lib/python3.8/site-packages/torch/autocast_mode.py:141: UserWarning: User provided device_type of 'cuda', but CUDA is not available. Disabling\n",
      "  warnings.warn('User provided device_type of \\'cuda\\', but CUDA is not available. Disabling')\n"
     ]
    },
    {
     "name": "stdout",
     "output_type": "stream",
     "text": [
      "In epoch  25, loss: 0.0783, val acc: nan (best 0.0000), test acc: nan (best 0.0000)\n",
      "In epoch  50, loss: 0.0474, val acc: nan (best 0.0000), test acc: nan (best 0.0000)\n",
      "In epoch  75, loss: 0.0441, val acc: nan (best 0.0000), test acc: nan (best 0.0000)\n",
      "In epoch 100, loss: 0.0424, val acc: nan (best 0.0000), test acc: nan (best 0.0000)\n",
      "/home/agent/Documents/graph/GNN/dataset/DKKD_graph/0034.edges.csv\n"
     ]
    },
    {
     "name": "stderr",
     "output_type": "stream",
     "text": [
      "/home/agent/anaconda3/envs/graph/lib/python3.8/site-packages/torch/autocast_mode.py:141: UserWarning: User provided device_type of 'cuda', but CUDA is not available. Disabling\n",
      "  warnings.warn('User provided device_type of \\'cuda\\', but CUDA is not available. Disabling')\n"
     ]
    },
    {
     "name": "stdout",
     "output_type": "stream",
     "text": [
      "In epoch  25, loss: 0.1433, val acc: nan (best 0.0000), test acc: nan (best 0.0000)\n",
      "In epoch  50, loss: 0.0560, val acc: nan (best 0.0000), test acc: nan (best 0.0000)\n",
      "In epoch  75, loss: 0.0522, val acc: nan (best 0.0000), test acc: nan (best 0.0000)\n",
      "In epoch 100, loss: 0.0507, val acc: nan (best 0.0000), test acc: nan (best 0.0000)\n",
      "/home/agent/Documents/graph/GNN/dataset/DKKD_graph/0048.edges.csv\n"
     ]
    },
    {
     "name": "stderr",
     "output_type": "stream",
     "text": [
      "/home/agent/anaconda3/envs/graph/lib/python3.8/site-packages/torch/autocast_mode.py:141: UserWarning: User provided device_type of 'cuda', but CUDA is not available. Disabling\n",
      "  warnings.warn('User provided device_type of \\'cuda\\', but CUDA is not available. Disabling')\n"
     ]
    },
    {
     "name": "stdout",
     "output_type": "stream",
     "text": [
      "In epoch  25, loss: 0.0645, val acc: nan (best 0.0000), test acc: nan (best 0.0000)\n",
      "In epoch  50, loss: 0.0561, val acc: nan (best 0.0000), test acc: nan (best 0.0000)\n",
      "In epoch  75, loss: 0.0542, val acc: nan (best 0.0000), test acc: nan (best 0.0000)\n",
      "In epoch 100, loss: 0.0519, val acc: nan (best 0.0000), test acc: nan (best 0.0000)\n",
      "/home/agent/Documents/graph/GNN/dataset/DKKD_graph/0011.edges.csv\n"
     ]
    },
    {
     "name": "stderr",
     "output_type": "stream",
     "text": [
      "/home/agent/anaconda3/envs/graph/lib/python3.8/site-packages/torch/autocast_mode.py:141: UserWarning: User provided device_type of 'cuda', but CUDA is not available. Disabling\n",
      "  warnings.warn('User provided device_type of \\'cuda\\', but CUDA is not available. Disabling')\n"
     ]
    },
    {
     "name": "stdout",
     "output_type": "stream",
     "text": [
      "In epoch  25, loss: 1.7422, val acc: nan (best 0.0000), test acc: nan (best 0.0000)\n",
      "In epoch  50, loss: 0.4449, val acc: nan (best 0.0000), test acc: nan (best 0.0000)\n",
      "In epoch  75, loss: 0.1424, val acc: nan (best 0.0000), test acc: nan (best 0.0000)\n",
      "In epoch 100, loss: 0.0956, val acc: nan (best 0.0000), test acc: nan (best 0.0000)\n",
      "/home/agent/Documents/graph/GNN/dataset/DKKD_graph/0042.edges.csv\n"
     ]
    },
    {
     "name": "stderr",
     "output_type": "stream",
     "text": [
      "/home/agent/anaconda3/envs/graph/lib/python3.8/site-packages/torch/autocast_mode.py:141: UserWarning: User provided device_type of 'cuda', but CUDA is not available. Disabling\n",
      "  warnings.warn('User provided device_type of \\'cuda\\', but CUDA is not available. Disabling')\n"
     ]
    },
    {
     "name": "stdout",
     "output_type": "stream",
     "text": [
      "In epoch  25, loss: 2.8412, val acc: nan (best 0.0000), test acc: nan (best 0.0000)\n",
      "In epoch  50, loss: 1.2396, val acc: nan (best 0.0000), test acc: nan (best 0.0000)\n",
      "In epoch  75, loss: 0.6140, val acc: nan (best 0.0000), test acc: nan (best 0.0000)\n",
      "In epoch 100, loss: 0.2571, val acc: nan (best 0.0000), test acc: nan (best 0.0000)\n",
      "/home/agent/Documents/graph/GNN/dataset/DKKD_graph/0008.edges.csv\n",
      "In epoch  25, loss: 2.2989, val acc: nan (best 0.0000), test acc: nan (best 0.0000)\n"
     ]
    },
    {
     "name": "stderr",
     "output_type": "stream",
     "text": [
      "/home/agent/anaconda3/envs/graph/lib/python3.8/site-packages/torch/autocast_mode.py:141: UserWarning: User provided device_type of 'cuda', but CUDA is not available. Disabling\n",
      "  warnings.warn('User provided device_type of \\'cuda\\', but CUDA is not available. Disabling')\n"
     ]
    },
    {
     "name": "stdout",
     "output_type": "stream",
     "text": [
      "In epoch  50, loss: 1.6278, val acc: nan (best 0.0000), test acc: nan (best 0.0000)\n",
      "In epoch  75, loss: 0.8737, val acc: nan (best 0.0000), test acc: nan (best 0.0000)\n",
      "In epoch 100, loss: 0.4679, val acc: nan (best 0.0000), test acc: nan (best 0.0000)\n",
      "/home/agent/Documents/graph/GNN/dataset/DKKD_graph/0045.edges.csv\n",
      "In epoch  25, loss: 3.3177, val acc: nan (best 0.0000), test acc: nan (best 0.0000)\n"
     ]
    },
    {
     "name": "stderr",
     "output_type": "stream",
     "text": [
      "/home/agent/anaconda3/envs/graph/lib/python3.8/site-packages/torch/autocast_mode.py:141: UserWarning: User provided device_type of 'cuda', but CUDA is not available. Disabling\n",
      "  warnings.warn('User provided device_type of \\'cuda\\', but CUDA is not available. Disabling')\n"
     ]
    },
    {
     "name": "stdout",
     "output_type": "stream",
     "text": [
      "In epoch  50, loss: 2.1232, val acc: nan (best 0.0000), test acc: nan (best 0.0000)\n",
      "In epoch  75, loss: 1.4083, val acc: nan (best 0.0000), test acc: nan (best 0.0000)\n",
      "In epoch 100, loss: 0.8479, val acc: nan (best 0.0000), test acc: nan (best 0.0000)\n",
      "/home/agent/Documents/graph/GNN/dataset/DKKD_graph/0005.edges.csv\n",
      "In epoch  25, loss: 3.9167, val acc: nan (best 0.0000), test acc: nan (best 0.0000)\n"
     ]
    },
    {
     "name": "stderr",
     "output_type": "stream",
     "text": [
      "/home/agent/anaconda3/envs/graph/lib/python3.8/site-packages/torch/autocast_mode.py:141: UserWarning: User provided device_type of 'cuda', but CUDA is not available. Disabling\n",
      "  warnings.warn('User provided device_type of \\'cuda\\', but CUDA is not available. Disabling')\n"
     ]
    },
    {
     "name": "stdout",
     "output_type": "stream",
     "text": [
      "In epoch  50, loss: 2.7312, val acc: nan (best 0.0000), test acc: nan (best 0.0000)\n",
      "In epoch  75, loss: 2.3261, val acc: nan (best 0.0000), test acc: nan (best 0.0000)\n",
      "In epoch 100, loss: 2.0679, val acc: nan (best 0.0000), test acc: nan (best 0.0000)\n",
      "/home/agent/Documents/graph/GNN/dataset/DKKD_graph/0027.edges.csv\n",
      "In epoch  25, loss: 1.9727, val acc: nan (best 0.0000), test acc: nan (best 0.0000)\n"
     ]
    },
    {
     "name": "stderr",
     "output_type": "stream",
     "text": [
      "/home/agent/anaconda3/envs/graph/lib/python3.8/site-packages/torch/autocast_mode.py:141: UserWarning: User provided device_type of 'cuda', but CUDA is not available. Disabling\n",
      "  warnings.warn('User provided device_type of \\'cuda\\', but CUDA is not available. Disabling')\n"
     ]
    },
    {
     "name": "stdout",
     "output_type": "stream",
     "text": [
      "In epoch  50, loss: 1.3692, val acc: nan (best 0.0000), test acc: nan (best 0.0000)\n",
      "In epoch  75, loss: 1.0068, val acc: nan (best 0.0000), test acc: nan (best 0.0000)\n",
      "In epoch 100, loss: 0.6788, val acc: nan (best 0.0000), test acc: nan (best 0.0000)\n",
      "/home/agent/Documents/graph/GNN/dataset/DKKD_graph/0047.edges.csv\n"
     ]
    },
    {
     "name": "stderr",
     "output_type": "stream",
     "text": [
      "/home/agent/anaconda3/envs/graph/lib/python3.8/site-packages/torch/autocast_mode.py:141: UserWarning: User provided device_type of 'cuda', but CUDA is not available. Disabling\n",
      "  warnings.warn('User provided device_type of \\'cuda\\', but CUDA is not available. Disabling')\n"
     ]
    },
    {
     "name": "stdout",
     "output_type": "stream",
     "text": [
      "In epoch  25, loss: 0.5292, val acc: nan (best 0.0000), test acc: nan (best 0.0000)\n",
      "In epoch  50, loss: 0.2589, val acc: nan (best 0.0000), test acc: nan (best 0.0000)\n",
      "In epoch  75, loss: 0.1251, val acc: nan (best 0.0000), test acc: nan (best 0.0000)\n",
      "In epoch 100, loss: 0.0686, val acc: nan (best 0.0000), test acc: nan (best 0.0000)\n",
      "/home/agent/Documents/graph/GNN/dataset/DKKD_graph/0032.edges.csv\n",
      "In epoch  25, loss: 3.2166, val acc: nan (best 0.0000), test acc: nan (best 0.0000)\n"
     ]
    },
    {
     "name": "stderr",
     "output_type": "stream",
     "text": [
      "/home/agent/anaconda3/envs/graph/lib/python3.8/site-packages/torch/autocast_mode.py:141: UserWarning: User provided device_type of 'cuda', but CUDA is not available. Disabling\n",
      "  warnings.warn('User provided device_type of \\'cuda\\', but CUDA is not available. Disabling')\n"
     ]
    },
    {
     "name": "stdout",
     "output_type": "stream",
     "text": [
      "In epoch  50, loss: 2.1381, val acc: nan (best 0.0000), test acc: nan (best 0.0000)\n",
      "In epoch  75, loss: 1.4870, val acc: nan (best 0.0000), test acc: nan (best 0.0000)\n",
      "In epoch 100, loss: 1.2547, val acc: nan (best 0.0000), test acc: nan (best 0.0000)\n",
      "/home/agent/Documents/graph/GNN/dataset/DKKD_graph/0013.edges.csv\n"
     ]
    },
    {
     "name": "stderr",
     "output_type": "stream",
     "text": [
      "/home/agent/anaconda3/envs/graph/lib/python3.8/site-packages/torch/autocast_mode.py:141: UserWarning: User provided device_type of 'cuda', but CUDA is not available. Disabling\n",
      "  warnings.warn('User provided device_type of \\'cuda\\', but CUDA is not available. Disabling')\n"
     ]
    },
    {
     "name": "stdout",
     "output_type": "stream",
     "text": [
      "In epoch  25, loss: 3.8527, val acc: nan (best 0.0000), test acc: nan (best 0.0000)\n",
      "In epoch  50, loss: 2.5872, val acc: nan (best 0.0000), test acc: nan (best 0.0000)\n",
      "In epoch  75, loss: 2.2364, val acc: nan (best 0.0000), test acc: nan (best 0.0000)\n",
      "In epoch 100, loss: 2.0441, val acc: nan (best 0.0000), test acc: nan (best 0.0000)\n",
      "/home/agent/Documents/graph/GNN/dataset/DKKD_graph/0009.edges.csv\n",
      "In epoch  25, loss: 3.2757, val acc: nan (best 0.0000), test acc: nan (best 0.0000)\n"
     ]
    },
    {
     "name": "stderr",
     "output_type": "stream",
     "text": [
      "/home/agent/anaconda3/envs/graph/lib/python3.8/site-packages/torch/autocast_mode.py:141: UserWarning: User provided device_type of 'cuda', but CUDA is not available. Disabling\n",
      "  warnings.warn('User provided device_type of \\'cuda\\', but CUDA is not available. Disabling')\n"
     ]
    },
    {
     "name": "stdout",
     "output_type": "stream",
     "text": [
      "In epoch  50, loss: 2.6624, val acc: nan (best 0.0000), test acc: nan (best 0.0000)\n",
      "In epoch  75, loss: 2.4313, val acc: nan (best 0.0000), test acc: nan (best 0.0000)\n",
      "In epoch 100, loss: 2.2954, val acc: nan (best 0.0000), test acc: nan (best 0.0000)\n",
      "/home/agent/Documents/graph/GNN/dataset/DKKD_graph/0030.edges.csv\n"
     ]
    },
    {
     "name": "stderr",
     "output_type": "stream",
     "text": [
      "/home/agent/anaconda3/envs/graph/lib/python3.8/site-packages/torch/autocast_mode.py:141: UserWarning: User provided device_type of 'cuda', but CUDA is not available. Disabling\n",
      "  warnings.warn('User provided device_type of \\'cuda\\', but CUDA is not available. Disabling')\n"
     ]
    },
    {
     "name": "stdout",
     "output_type": "stream",
     "text": [
      "In epoch  25, loss: 2.7185, val acc: nan (best 0.0000), test acc: nan (best 0.0000)\n",
      "In epoch  50, loss: 2.1706, val acc: nan (best 0.0000), test acc: nan (best 0.0000)\n",
      "In epoch  75, loss: 1.9726, val acc: nan (best 0.0000), test acc: nan (best 0.0000)\n",
      "In epoch 100, loss: 1.8761, val acc: nan (best 0.0000), test acc: nan (best 0.0000)\n",
      "/home/agent/Documents/graph/GNN/dataset/DKKD_graph/0020.edges.csv\n"
     ]
    },
    {
     "name": "stderr",
     "output_type": "stream",
     "text": [
      "/home/agent/anaconda3/envs/graph/lib/python3.8/site-packages/torch/autocast_mode.py:141: UserWarning: User provided device_type of 'cuda', but CUDA is not available. Disabling\n",
      "  warnings.warn('User provided device_type of \\'cuda\\', but CUDA is not available. Disabling')\n"
     ]
    },
    {
     "name": "stdout",
     "output_type": "stream",
     "text": [
      "In epoch  25, loss: 4.4462, val acc: nan (best 0.0000), test acc: nan (best 0.0000)\n",
      "In epoch  50, loss: 3.9515, val acc: nan (best 0.0000), test acc: nan (best 0.0000)\n",
      "In epoch  75, loss: 3.4706, val acc: nan (best 0.0000), test acc: nan (best 0.0000)\n",
      "In epoch 100, loss: 3.0018, val acc: nan (best 0.0000), test acc: nan (best 0.0000)\n",
      "/home/agent/Documents/graph/GNN/dataset/DKKD_graph/0001.edges.csv\n"
     ]
    },
    {
     "name": "stderr",
     "output_type": "stream",
     "text": [
      "/home/agent/anaconda3/envs/graph/lib/python3.8/site-packages/torch/autocast_mode.py:141: UserWarning: User provided device_type of 'cuda', but CUDA is not available. Disabling\n",
      "  warnings.warn('User provided device_type of \\'cuda\\', but CUDA is not available. Disabling')\n"
     ]
    },
    {
     "name": "stdout",
     "output_type": "stream",
     "text": [
      "In epoch  25, loss: 3.0347, val acc: nan (best 0.0000), test acc: nan (best 0.0000)\n",
      "In epoch  50, loss: 2.5602, val acc: nan (best 0.0000), test acc: nan (best 0.0000)\n",
      "In epoch  75, loss: 2.3337, val acc: nan (best 0.0000), test acc: nan (best 0.0000)\n",
      "In epoch 100, loss: 2.1840, val acc: nan (best 0.0000), test acc: nan (best 0.0000)\n",
      "/home/agent/Documents/graph/GNN/dataset/DKKD_graph/0021.edges.csv\n"
     ]
    },
    {
     "name": "stderr",
     "output_type": "stream",
     "text": [
      "/home/agent/anaconda3/envs/graph/lib/python3.8/site-packages/torch/autocast_mode.py:141: UserWarning: User provided device_type of 'cuda', but CUDA is not available. Disabling\n",
      "  warnings.warn('User provided device_type of \\'cuda\\', but CUDA is not available. Disabling')\n"
     ]
    },
    {
     "name": "stdout",
     "output_type": "stream",
     "text": [
      "In epoch  25, loss: 2.9658, val acc: nan (best 0.0000), test acc: nan (best 0.0000)\n",
      "In epoch  50, loss: 2.5195, val acc: nan (best 0.0000), test acc: nan (best 0.0000)\n",
      "In epoch  75, loss: 2.1035, val acc: nan (best 0.0000), test acc: nan (best 0.0000)\n",
      "In epoch 100, loss: 1.7269, val acc: nan (best 0.0000), test acc: nan (best 0.0000)\n",
      "/home/agent/Documents/graph/GNN/dataset/DKKD_graph/0036.edges.csv\n",
      "In epoch  25, loss: 4.9945, val acc: nan (best 0.0000), test acc: nan (best 0.0000)\n"
     ]
    },
    {
     "name": "stderr",
     "output_type": "stream",
     "text": [
      "/home/agent/anaconda3/envs/graph/lib/python3.8/site-packages/torch/autocast_mode.py:141: UserWarning: User provided device_type of 'cuda', but CUDA is not available. Disabling\n",
      "  warnings.warn('User provided device_type of \\'cuda\\', but CUDA is not available. Disabling')\n"
     ]
    },
    {
     "name": "stdout",
     "output_type": "stream",
     "text": [
      "In epoch  50, loss: 4.7417, val acc: nan (best 0.0000), test acc: nan (best 0.0000)\n",
      "In epoch  75, loss: 4.4698, val acc: nan (best 0.0000), test acc: nan (best 0.0000)\n",
      "In epoch 100, loss: 4.2684, val acc: nan (best 0.0000), test acc: nan (best 0.0000)\n",
      "/home/agent/Documents/graph/GNN/dataset/DKKD_graph/0031.edges.csv\n"
     ]
    },
    {
     "name": "stderr",
     "output_type": "stream",
     "text": [
      "/home/agent/anaconda3/envs/graph/lib/python3.8/site-packages/torch/autocast_mode.py:141: UserWarning: User provided device_type of 'cuda', but CUDA is not available. Disabling\n",
      "  warnings.warn('User provided device_type of \\'cuda\\', but CUDA is not available. Disabling')\n"
     ]
    },
    {
     "name": "stdout",
     "output_type": "stream",
     "text": [
      "In epoch  25, loss: 3.3771, val acc: nan (best 0.0000), test acc: nan (best 0.0000)\n",
      "In epoch  50, loss: 3.0888, val acc: nan (best 0.0000), test acc: nan (best 0.0000)\n",
      "In epoch  75, loss: 2.8364, val acc: nan (best 0.0000), test acc: nan (best 0.0000)\n",
      "In epoch 100, loss: 2.6173, val acc: nan (best 0.0000), test acc: nan (best 0.0000)\n",
      "/home/agent/Documents/graph/GNN/dataset/DKKD_graph/0012.edges.csv\n"
     ]
    },
    {
     "name": "stderr",
     "output_type": "stream",
     "text": [
      "/home/agent/anaconda3/envs/graph/lib/python3.8/site-packages/torch/autocast_mode.py:141: UserWarning: User provided device_type of 'cuda', but CUDA is not available. Disabling\n",
      "  warnings.warn('User provided device_type of \\'cuda\\', but CUDA is not available. Disabling')\n"
     ]
    },
    {
     "name": "stdout",
     "output_type": "stream",
     "text": [
      "In epoch  25, loss: 4.4934, val acc: nan (best 0.0000), test acc: nan (best 0.0000)\n",
      "In epoch  50, loss: 4.2988, val acc: nan (best 0.0000), test acc: nan (best 0.0000)\n",
      "In epoch  75, loss: 4.0571, val acc: nan (best 0.0000), test acc: nan (best 0.0000)\n",
      "In epoch 100, loss: 3.8183, val acc: nan (best 0.0000), test acc: nan (best 0.0000)\n",
      "/home/agent/Documents/graph/GNN/dataset/DKKD_graph/0022.edges.csv\n"
     ]
    },
    {
     "name": "stderr",
     "output_type": "stream",
     "text": [
      "/home/agent/anaconda3/envs/graph/lib/python3.8/site-packages/torch/autocast_mode.py:141: UserWarning: User provided device_type of 'cuda', but CUDA is not available. Disabling\n",
      "  warnings.warn('User provided device_type of \\'cuda\\', but CUDA is not available. Disabling')\n"
     ]
    },
    {
     "name": "stdout",
     "output_type": "stream",
     "text": [
      "In epoch  25, loss: 3.1539, val acc: nan (best 0.0000), test acc: nan (best 0.0000)\n",
      "In epoch  50, loss: 2.7458, val acc: nan (best 0.0000), test acc: nan (best 0.0000)\n",
      "In epoch  75, loss: 2.4840, val acc: nan (best 0.0000), test acc: nan (best 0.0000)\n",
      "In epoch 100, loss: 2.2882, val acc: nan (best 0.0000), test acc: nan (best 0.0000)\n",
      "/home/agent/Documents/graph/GNN/dataset/DKKD_graph/0049.edges.csv\n"
     ]
    },
    {
     "name": "stderr",
     "output_type": "stream",
     "text": [
      "/home/agent/anaconda3/envs/graph/lib/python3.8/site-packages/torch/autocast_mode.py:141: UserWarning: User provided device_type of 'cuda', but CUDA is not available. Disabling\n",
      "  warnings.warn('User provided device_type of \\'cuda\\', but CUDA is not available. Disabling')\n"
     ]
    },
    {
     "name": "stdout",
     "output_type": "stream",
     "text": [
      "In epoch  25, loss: 4.5032, val acc: nan (best 0.0000), test acc: nan (best 0.0000)\n",
      "In epoch  50, loss: 4.2066, val acc: nan (best 0.0000), test acc: nan (best 0.0000)\n",
      "In epoch  75, loss: 3.9313, val acc: nan (best 0.0000), test acc: nan (best 0.0000)\n",
      "In epoch 100, loss: 3.6632, val acc: nan (best 0.0000), test acc: nan (best 0.0000)\n",
      "/home/agent/Documents/graph/GNN/dataset/DKKD_graph/0046.edges.csv\n"
     ]
    },
    {
     "name": "stderr",
     "output_type": "stream",
     "text": [
      "/home/agent/anaconda3/envs/graph/lib/python3.8/site-packages/torch/autocast_mode.py:141: UserWarning: User provided device_type of 'cuda', but CUDA is not available. Disabling\n",
      "  warnings.warn('User provided device_type of \\'cuda\\', but CUDA is not available. Disabling')\n"
     ]
    },
    {
     "name": "stdout",
     "output_type": "stream",
     "text": [
      "In epoch  25, loss: 3.6059, val acc: nan (best 0.0000), test acc: nan (best 0.0000)\n",
      "In epoch  50, loss: 3.4130, val acc: nan (best 0.0000), test acc: nan (best 0.0000)\n",
      "In epoch  75, loss: 3.2727, val acc: nan (best 0.0000), test acc: nan (best 0.0000)\n",
      "In epoch 100, loss: 3.1712, val acc: nan (best 0.0000), test acc: nan (best 0.0000)\n",
      "/home/agent/Documents/graph/GNN/dataset/DKKD_graph/0033.edges.csv\n"
     ]
    },
    {
     "name": "stderr",
     "output_type": "stream",
     "text": [
      "/home/agent/anaconda3/envs/graph/lib/python3.8/site-packages/torch/autocast_mode.py:141: UserWarning: User provided device_type of 'cuda', but CUDA is not available. Disabling\n",
      "  warnings.warn('User provided device_type of \\'cuda\\', but CUDA is not available. Disabling')\n"
     ]
    },
    {
     "name": "stdout",
     "output_type": "stream",
     "text": [
      "In epoch  25, loss: 3.3701, val acc: nan (best 0.0000), test acc: nan (best 0.0000)\n",
      "In epoch  50, loss: 3.1071, val acc: nan (best 0.0000), test acc: nan (best 0.0000)\n",
      "In epoch  75, loss: 2.8668, val acc: nan (best 0.0000), test acc: nan (best 0.0000)\n",
      "In epoch 100, loss: 2.6479, val acc: nan (best 0.0000), test acc: nan (best 0.0000)\n",
      "/home/agent/Documents/graph/GNN/dataset/DKKD_graph/0029.edges.csv\n",
      "In epoch  25, loss: 2.9144, val acc: nan (best 0.0000), test acc: nan (best 0.0000)\n"
     ]
    },
    {
     "name": "stderr",
     "output_type": "stream",
     "text": [
      "/home/agent/anaconda3/envs/graph/lib/python3.8/site-packages/torch/autocast_mode.py:141: UserWarning: User provided device_type of 'cuda', but CUDA is not available. Disabling\n",
      "  warnings.warn('User provided device_type of \\'cuda\\', but CUDA is not available. Disabling')\n"
     ]
    },
    {
     "name": "stdout",
     "output_type": "stream",
     "text": [
      "In epoch  50, loss: 2.2551, val acc: nan (best 0.0000), test acc: nan (best 0.0000)\n",
      "In epoch  75, loss: 1.8954, val acc: nan (best 0.0000), test acc: nan (best 0.0000)\n",
      "In epoch 100, loss: 1.6768, val acc: nan (best 0.0000), test acc: nan (best 0.0000)\n",
      "/home/agent/Documents/graph/GNN/dataset/DKKD_graph/0019.edges.csv\n"
     ]
    },
    {
     "name": "stderr",
     "output_type": "stream",
     "text": [
      "/home/agent/anaconda3/envs/graph/lib/python3.8/site-packages/torch/autocast_mode.py:141: UserWarning: User provided device_type of 'cuda', but CUDA is not available. Disabling\n",
      "  warnings.warn('User provided device_type of \\'cuda\\', but CUDA is not available. Disabling')\n"
     ]
    },
    {
     "name": "stdout",
     "output_type": "stream",
     "text": [
      "In epoch  25, loss: 1.3349, val acc: nan (best 0.0000), test acc: nan (best 0.0000)\n",
      "In epoch  50, loss: 0.0000, val acc: nan (best 0.0000), test acc: nan (best 0.0000)\n",
      "In epoch  75, loss: 0.0000, val acc: nan (best 0.0000), test acc: nan (best 0.0000)\n",
      "In epoch 100, loss: 0.0000, val acc: nan (best 0.0000), test acc: nan (best 0.0000)\n",
      "/home/agent/Documents/graph/GNN/dataset/DKKD_graph/0006.edges.csv\n"
     ]
    },
    {
     "name": "stderr",
     "output_type": "stream",
     "text": [
      "/home/agent/anaconda3/envs/graph/lib/python3.8/site-packages/torch/autocast_mode.py:141: UserWarning: User provided device_type of 'cuda', but CUDA is not available. Disabling\n",
      "  warnings.warn('User provided device_type of \\'cuda\\', but CUDA is not available. Disabling')\n"
     ]
    },
    {
     "name": "stdout",
     "output_type": "stream",
     "text": [
      "In epoch  25, loss: 5.6646, val acc: nan (best 0.0000), test acc: nan (best 0.0000)\n",
      "In epoch  50, loss: 5.3294, val acc: nan (best 0.0000), test acc: nan (best 0.0000)\n",
      "In epoch  75, loss: 5.0719, val acc: nan (best 0.0000), test acc: nan (best 0.0000)\n",
      "In epoch 100, loss: 4.8515, val acc: nan (best 0.0000), test acc: nan (best 0.0000)\n",
      "/home/agent/Documents/graph/GNN/dataset/DKKD_graph/0040.edges.csv\n"
     ]
    },
    {
     "name": "stderr",
     "output_type": "stream",
     "text": [
      "/home/agent/anaconda3/envs/graph/lib/python3.8/site-packages/torch/autocast_mode.py:141: UserWarning: User provided device_type of 'cuda', but CUDA is not available. Disabling\n",
      "  warnings.warn('User provided device_type of \\'cuda\\', but CUDA is not available. Disabling')\n"
     ]
    },
    {
     "name": "stdout",
     "output_type": "stream",
     "text": [
      "In epoch  25, loss: 4.2045, val acc: nan (best 0.0000), test acc: nan (best 0.0000)\n",
      "In epoch  50, loss: 3.9505, val acc: nan (best 0.0000), test acc: nan (best 0.0000)\n",
      "In epoch  75, loss: 3.7065, val acc: nan (best 0.0000), test acc: nan (best 0.0000)\n",
      "In epoch 100, loss: 3.4886, val acc: nan (best 0.0000), test acc: nan (best 0.0000)\n",
      "/home/agent/Documents/graph/GNN/dataset/DKKD_graph/0016.edges.csv\n"
     ]
    },
    {
     "name": "stderr",
     "output_type": "stream",
     "text": [
      "/home/agent/anaconda3/envs/graph/lib/python3.8/site-packages/torch/autocast_mode.py:141: UserWarning: User provided device_type of 'cuda', but CUDA is not available. Disabling\n",
      "  warnings.warn('User provided device_type of \\'cuda\\', but CUDA is not available. Disabling')\n"
     ]
    },
    {
     "name": "stdout",
     "output_type": "stream",
     "text": [
      "In epoch  25, loss: 3.4031, val acc: nan (best 0.0000), test acc: nan (best 0.0000)\n",
      "In epoch  50, loss: 2.9542, val acc: nan (best 0.0000), test acc: nan (best 0.0000)\n",
      "In epoch  75, loss: 2.3510, val acc: nan (best 0.0000), test acc: nan (best 0.0000)\n",
      "In epoch 100, loss: 1.7073, val acc: nan (best 0.0000), test acc: nan (best 0.0000)\n",
      "/home/agent/Documents/graph/GNN/dataset/DKKD_graph/0024.edges.csv\n"
     ]
    },
    {
     "name": "stderr",
     "output_type": "stream",
     "text": [
      "/home/agent/anaconda3/envs/graph/lib/python3.8/site-packages/torch/autocast_mode.py:141: UserWarning: User provided device_type of 'cuda', but CUDA is not available. Disabling\n",
      "  warnings.warn('User provided device_type of \\'cuda\\', but CUDA is not available. Disabling')\n"
     ]
    },
    {
     "name": "stdout",
     "output_type": "stream",
     "text": [
      "In epoch  25, loss: 3.8064, val acc: nan (best 0.0000), test acc: nan (best 0.0000)\n",
      "In epoch  50, loss: 3.6462, val acc: nan (best 0.0000), test acc: nan (best 0.0000)\n",
      "In epoch  75, loss: 3.5115, val acc: nan (best 0.0000), test acc: nan (best 0.0000)\n",
      "In epoch 100, loss: 3.4033, val acc: nan (best 0.0000), test acc: nan (best 0.0000)\n",
      "/home/agent/Documents/graph/GNN/dataset/DKKD_graph/0025.edges.csv\n"
     ]
    },
    {
     "name": "stderr",
     "output_type": "stream",
     "text": [
      "/home/agent/anaconda3/envs/graph/lib/python3.8/site-packages/torch/autocast_mode.py:141: UserWarning: User provided device_type of 'cuda', but CUDA is not available. Disabling\n",
      "  warnings.warn('User provided device_type of \\'cuda\\', but CUDA is not available. Disabling')\n"
     ]
    },
    {
     "name": "stdout",
     "output_type": "stream",
     "text": [
      "In epoch  25, loss: 4.6284, val acc: nan (best 0.0000), test acc: nan (best 0.0000)\n",
      "In epoch  50, loss: 4.4710, val acc: nan (best 0.0000), test acc: nan (best 0.0000)\n",
      "In epoch  75, loss: 4.3426, val acc: nan (best 0.0000), test acc: nan (best 0.0000)\n",
      "In epoch 100, loss: 4.2329, val acc: nan (best 0.0000), test acc: nan (best 0.0000)\n",
      "/home/agent/Documents/graph/GNN/dataset/DKKD_graph/0050.edges.csv\n",
      "In epoch  25, loss: 3.7194, val acc: nan (best 0.0000), test acc: nan (best 0.0000)\n"
     ]
    },
    {
     "name": "stderr",
     "output_type": "stream",
     "text": [
      "/home/agent/anaconda3/envs/graph/lib/python3.8/site-packages/torch/autocast_mode.py:141: UserWarning: User provided device_type of 'cuda', but CUDA is not available. Disabling\n",
      "  warnings.warn('User provided device_type of \\'cuda\\', but CUDA is not available. Disabling')\n"
     ]
    },
    {
     "name": "stdout",
     "output_type": "stream",
     "text": [
      "In epoch  50, loss: 3.5146, val acc: nan (best 0.0000), test acc: nan (best 0.0000)\n",
      "In epoch  75, loss: 3.3533, val acc: nan (best 0.0000), test acc: nan (best 0.0000)\n",
      "In epoch 100, loss: 3.2264, val acc: nan (best 0.0000), test acc: nan (best 0.0000)\n",
      "/home/agent/Documents/graph/GNN/dataset/DKKD_graph/0037.edges.csv\n"
     ]
    },
    {
     "name": "stderr",
     "output_type": "stream",
     "text": [
      "/home/agent/anaconda3/envs/graph/lib/python3.8/site-packages/torch/autocast_mode.py:141: UserWarning: User provided device_type of 'cuda', but CUDA is not available. Disabling\n",
      "  warnings.warn('User provided device_type of \\'cuda\\', but CUDA is not available. Disabling')\n"
     ]
    },
    {
     "name": "stdout",
     "output_type": "stream",
     "text": [
      "In epoch  25, loss: 4.4106, val acc: nan (best 0.0000), test acc: nan (best 0.0000)\n",
      "In epoch  50, loss: 4.2722, val acc: nan (best 0.0000), test acc: nan (best 0.0000)\n",
      "In epoch  75, loss: 4.1590, val acc: nan (best 0.0000), test acc: nan (best 0.0000)\n",
      "In epoch 100, loss: 4.0595, val acc: nan (best 0.0000), test acc: nan (best 0.0000)\n",
      "/home/agent/Documents/graph/GNN/dataset/DKKD_graph/0003.edges.csv\n"
     ]
    },
    {
     "name": "stderr",
     "output_type": "stream",
     "text": [
      "/home/agent/anaconda3/envs/graph/lib/python3.8/site-packages/torch/autocast_mode.py:141: UserWarning: User provided device_type of 'cuda', but CUDA is not available. Disabling\n",
      "  warnings.warn('User provided device_type of \\'cuda\\', but CUDA is not available. Disabling')\n"
     ]
    },
    {
     "name": "stdout",
     "output_type": "stream",
     "text": [
      "In epoch  25, loss: 5.7653, val acc: nan (best 0.0000), test acc: nan (best 0.0000)\n",
      "In epoch  50, loss: 4.3218, val acc: nan (best 0.0000), test acc: nan (best 0.0000)\n",
      "In epoch  75, loss: 2.7412, val acc: nan (best 0.0000), test acc: nan (best 0.0000)\n",
      "In epoch 100, loss: 2.4808, val acc: nan (best 0.0000), test acc: nan (best 0.0000)\n",
      "/home/agent/Documents/graph/GNN/dataset/DKKD_graph/0007.edges.csv\n"
     ]
    },
    {
     "name": "stderr",
     "output_type": "stream",
     "text": [
      "/home/agent/anaconda3/envs/graph/lib/python3.8/site-packages/torch/autocast_mode.py:141: UserWarning: User provided device_type of 'cuda', but CUDA is not available. Disabling\n",
      "  warnings.warn('User provided device_type of \\'cuda\\', but CUDA is not available. Disabling')\n"
     ]
    },
    {
     "name": "stdout",
     "output_type": "stream",
     "text": [
      "In epoch  25, loss: 2.1724, val acc: nan (best 0.0000), test acc: nan (best 0.0000)\n",
      "In epoch  50, loss: 1.6093, val acc: nan (best 0.0000), test acc: nan (best 0.0000)\n",
      "In epoch  75, loss: 1.4506, val acc: nan (best 0.0000), test acc: nan (best 0.0000)\n",
      "In epoch 100, loss: 1.3577, val acc: nan (best 0.0000), test acc: nan (best 0.0000)\n",
      "/home/agent/Documents/graph/GNN/dataset/DKKD_graph/0017.edges.csv\n"
     ]
    },
    {
     "name": "stderr",
     "output_type": "stream",
     "text": [
      "/home/agent/anaconda3/envs/graph/lib/python3.8/site-packages/torch/autocast_mode.py:141: UserWarning: User provided device_type of 'cuda', but CUDA is not available. Disabling\n",
      "  warnings.warn('User provided device_type of \\'cuda\\', but CUDA is not available. Disabling')\n"
     ]
    },
    {
     "name": "stdout",
     "output_type": "stream",
     "text": [
      "In epoch  25, loss: 3.4793, val acc: nan (best 0.0000), test acc: nan (best 0.0000)\n",
      "In epoch  50, loss: 3.1648, val acc: nan (best 0.0000), test acc: nan (best 0.0000)\n",
      "In epoch  75, loss: 2.8741, val acc: nan (best 0.0000), test acc: nan (best 0.0000)\n",
      "In epoch 100, loss: 2.6283, val acc: nan (best 0.0000), test acc: nan (best 0.0000)\n",
      "/home/agent/Documents/graph/GNN/dataset/DKKD_graph/0004.edges.csv\n"
     ]
    },
    {
     "name": "stderr",
     "output_type": "stream",
     "text": [
      "/home/agent/anaconda3/envs/graph/lib/python3.8/site-packages/torch/autocast_mode.py:141: UserWarning: User provided device_type of 'cuda', but CUDA is not available. Disabling\n",
      "  warnings.warn('User provided device_type of \\'cuda\\', but CUDA is not available. Disabling')\n"
     ]
    },
    {
     "name": "stdout",
     "output_type": "stream",
     "text": [
      "In epoch  25, loss: 6.1043, val acc: nan (best 0.0000), test acc: nan (best 0.0000)\n",
      "In epoch  50, loss: 3.2374, val acc: nan (best 0.0000), test acc: nan (best 0.0000)\n",
      "In epoch  75, loss: 2.6414, val acc: nan (best 0.0000), test acc: nan (best 0.0000)\n",
      "In epoch 100, loss: 2.3303, val acc: nan (best 0.0000), test acc: nan (best 0.0000)\n",
      "/home/agent/Documents/graph/GNN/dataset/DKKD_graph/0002.edges.csv\n"
     ]
    },
    {
     "name": "stderr",
     "output_type": "stream",
     "text": [
      "/home/agent/anaconda3/envs/graph/lib/python3.8/site-packages/torch/autocast_mode.py:141: UserWarning: User provided device_type of 'cuda', but CUDA is not available. Disabling\n",
      "  warnings.warn('User provided device_type of \\'cuda\\', but CUDA is not available. Disabling')\n"
     ]
    },
    {
     "name": "stdout",
     "output_type": "stream",
     "text": [
      "In epoch  25, loss: 3.0626, val acc: nan (best 0.0000), test acc: nan (best 0.0000)\n",
      "In epoch  50, loss: 2.8232, val acc: nan (best 0.0000), test acc: nan (best 0.0000)\n",
      "In epoch  75, loss: 2.6468, val acc: nan (best 0.0000), test acc: nan (best 0.0000)\n",
      "In epoch 100, loss: 2.5202, val acc: nan (best 0.0000), test acc: nan (best 0.0000)\n",
      "/home/agent/Documents/graph/GNN/dataset/DKKD_graph/0026.edges.csv\n",
      "In epoch  25, loss: 3.4177, val acc: nan (best 0.0000), test acc: nan (best 0.0000)\n"
     ]
    },
    {
     "name": "stderr",
     "output_type": "stream",
     "text": [
      "/home/agent/anaconda3/envs/graph/lib/python3.8/site-packages/torch/autocast_mode.py:141: UserWarning: User provided device_type of 'cuda', but CUDA is not available. Disabling\n",
      "  warnings.warn('User provided device_type of \\'cuda\\', but CUDA is not available. Disabling')\n"
     ]
    },
    {
     "name": "stdout",
     "output_type": "stream",
     "text": [
      "In epoch  50, loss: 3.2067, val acc: nan (best 0.0000), test acc: nan (best 0.0000)\n",
      "In epoch  75, loss: 3.0654, val acc: nan (best 0.0000), test acc: nan (best 0.0000)\n",
      "In epoch 100, loss: 2.9726, val acc: nan (best 0.0000), test acc: nan (best 0.0000)\n",
      "/home/agent/Documents/graph/GNN/dataset/DKKD_graph/0010.edges.csv\n",
      "In epoch  25, loss: 2.8899, val acc: nan (best 0.0000), test acc: nan (best 0.0000)\n"
     ]
    },
    {
     "name": "stderr",
     "output_type": "stream",
     "text": [
      "/home/agent/anaconda3/envs/graph/lib/python3.8/site-packages/torch/autocast_mode.py:141: UserWarning: User provided device_type of 'cuda', but CUDA is not available. Disabling\n",
      "  warnings.warn('User provided device_type of \\'cuda\\', but CUDA is not available. Disabling')\n"
     ]
    },
    {
     "name": "stdout",
     "output_type": "stream",
     "text": [
      "In epoch  50, loss: 2.7907, val acc: nan (best 0.0000), test acc: nan (best 0.0000)\n",
      "In epoch  75, loss: 2.7349, val acc: nan (best 0.0000), test acc: nan (best 0.0000)\n",
      "In epoch 100, loss: 2.6931, val acc: nan (best 0.0000), test acc: nan (best 0.0000)\n",
      "/home/agent/Documents/graph/GNN/dataset/DKKD_graph/0041.edges.csv\n",
      "In epoch  25, loss: 2.6632, val acc: nan (best 0.0000), test acc: nan (best 0.0000)\n"
     ]
    },
    {
     "name": "stderr",
     "output_type": "stream",
     "text": [
      "/home/agent/anaconda3/envs/graph/lib/python3.8/site-packages/torch/autocast_mode.py:141: UserWarning: User provided device_type of 'cuda', but CUDA is not available. Disabling\n",
      "  warnings.warn('User provided device_type of \\'cuda\\', but CUDA is not available. Disabling')\n"
     ]
    },
    {
     "name": "stdout",
     "output_type": "stream",
     "text": [
      "In epoch  50, loss: 2.6175, val acc: nan (best 0.0000), test acc: nan (best 0.0000)\n",
      "In epoch  75, loss: 2.5902, val acc: nan (best 0.0000), test acc: nan (best 0.0000)\n",
      "In epoch 100, loss: 2.5724, val acc: nan (best 0.0000), test acc: nan (best 0.0000)\n",
      "/home/agent/Documents/graph/GNN/dataset/DKKD_graph/0023.edges.csv\n",
      "In epoch  25, loss: 2.7929, val acc: nan (best 0.0000), test acc: nan (best 0.0000)\n"
     ]
    },
    {
     "name": "stderr",
     "output_type": "stream",
     "text": [
      "/home/agent/anaconda3/envs/graph/lib/python3.8/site-packages/torch/autocast_mode.py:141: UserWarning: User provided device_type of 'cuda', but CUDA is not available. Disabling\n",
      "  warnings.warn('User provided device_type of \\'cuda\\', but CUDA is not available. Disabling')\n"
     ]
    },
    {
     "name": "stdout",
     "output_type": "stream",
     "text": [
      "In epoch  50, loss: 2.3391, val acc: nan (best 0.0000), test acc: nan (best 0.0000)\n",
      "In epoch  75, loss: 1.9159, val acc: nan (best 0.0000), test acc: nan (best 0.0000)\n",
      "In epoch 100, loss: 1.5355, val acc: nan (best 0.0000), test acc: nan (best 0.0000)\n",
      "/home/agent/Documents/graph/GNN/dataset/DKKD_graph/0018.edges.csv\n"
     ]
    },
    {
     "name": "stderr",
     "output_type": "stream",
     "text": [
      "/home/agent/anaconda3/envs/graph/lib/python3.8/site-packages/torch/autocast_mode.py:141: UserWarning: User provided device_type of 'cuda', but CUDA is not available. Disabling\n",
      "  warnings.warn('User provided device_type of \\'cuda\\', but CUDA is not available. Disabling')\n"
     ]
    },
    {
     "name": "stdout",
     "output_type": "stream",
     "text": [
      "In epoch  25, loss: 3.6679, val acc: nan (best 0.0000), test acc: nan (best 0.0000)\n",
      "In epoch  50, loss: 3.3574, val acc: nan (best 0.0000), test acc: nan (best 0.0000)\n",
      "In epoch  75, loss: 3.0716, val acc: nan (best 0.0000), test acc: nan (best 0.0000)\n",
      "In epoch 100, loss: 2.8112, val acc: nan (best 0.0000), test acc: nan (best 0.0000)\n",
      "/home/agent/Documents/graph/GNN/dataset/DKKD_graph/0043.edges.csv\n"
     ]
    },
    {
     "name": "stderr",
     "output_type": "stream",
     "text": [
      "/home/agent/anaconda3/envs/graph/lib/python3.8/site-packages/torch/autocast_mode.py:141: UserWarning: User provided device_type of 'cuda', but CUDA is not available. Disabling\n",
      "  warnings.warn('User provided device_type of \\'cuda\\', but CUDA is not available. Disabling')\n"
     ]
    },
    {
     "name": "stdout",
     "output_type": "stream",
     "text": [
      "In epoch  25, loss: 5.1229, val acc: nan (best 0.0000), test acc: nan (best 0.0000)\n",
      "In epoch  50, loss: 4.8518, val acc: nan (best 0.0000), test acc: nan (best 0.0000)\n",
      "In epoch  75, loss: 4.6087, val acc: nan (best 0.0000), test acc: nan (best 0.0000)\n",
      "In epoch 100, loss: 4.3949, val acc: nan (best 0.0000), test acc: nan (best 0.0000)\n",
      "/home/agent/Documents/graph/GNN/dataset/DKKD_graph/0044.edges.csv\n",
      "In epoch  25, loss: 2.9760, val acc: nan (best 0.0000), test acc: nan (best 0.0000)\n"
     ]
    },
    {
     "name": "stderr",
     "output_type": "stream",
     "text": [
      "/home/agent/anaconda3/envs/graph/lib/python3.8/site-packages/torch/autocast_mode.py:141: UserWarning: User provided device_type of 'cuda', but CUDA is not available. Disabling\n",
      "  warnings.warn('User provided device_type of \\'cuda\\', but CUDA is not available. Disabling')\n"
     ]
    },
    {
     "name": "stdout",
     "output_type": "stream",
     "text": [
      "In epoch  50, loss: 2.8631, val acc: nan (best 0.0000), test acc: nan (best 0.0000)\n",
      "In epoch  75, loss: 2.8092, val acc: nan (best 0.0000), test acc: nan (best 0.0000)\n",
      "In epoch 100, loss: 2.7807, val acc: nan (best 0.0000), test acc: nan (best 0.0000)\n",
      "/home/agent/Documents/graph/GNN/dataset/DKKD_graph/0028.edges.csv\n"
     ]
    },
    {
     "name": "stderr",
     "output_type": "stream",
     "text": [
      "/home/agent/anaconda3/envs/graph/lib/python3.8/site-packages/torch/autocast_mode.py:141: UserWarning: User provided device_type of 'cuda', but CUDA is not available. Disabling\n",
      "  warnings.warn('User provided device_type of \\'cuda\\', but CUDA is not available. Disabling')\n"
     ]
    },
    {
     "name": "stdout",
     "output_type": "stream",
     "text": [
      "In epoch  25, loss: 3.9277, val acc: nan (best 0.0000), test acc: nan (best 0.0000)\n",
      "In epoch  50, loss: 3.6355, val acc: nan (best 0.0000), test acc: nan (best 0.0000)\n",
      "In epoch  75, loss: 3.3678, val acc: nan (best 0.0000), test acc: nan (best 0.0000)\n",
      "In epoch 100, loss: 3.1225, val acc: nan (best 0.0000), test acc: nan (best 0.0000)\n",
      "/home/agent/Documents/graph/GNN/dataset/DKKD_graph/0014.edges.csv\n"
     ]
    },
    {
     "name": "stderr",
     "output_type": "stream",
     "text": [
      "/home/agent/anaconda3/envs/graph/lib/python3.8/site-packages/torch/autocast_mode.py:141: UserWarning: User provided device_type of 'cuda', but CUDA is not available. Disabling\n",
      "  warnings.warn('User provided device_type of \\'cuda\\', but CUDA is not available. Disabling')\n"
     ]
    },
    {
     "name": "stdout",
     "output_type": "stream",
     "text": [
      "In epoch  25, loss: 7.5329, val acc: nan (best 0.0000), test acc: nan (best 0.0000)\n",
      "In epoch  50, loss: 7.2380, val acc: nan (best 0.0000), test acc: nan (best 0.0000)\n",
      "In epoch  75, loss: 6.9628, val acc: nan (best 0.0000), test acc: nan (best 0.0000)\n",
      "In epoch 100, loss: 6.7022, val acc: nan (best 0.0000), test acc: nan (best 0.0000)\n",
      "/home/agent/Documents/graph/GNN/dataset/DKKD_graph/0039.edges.csv\n",
      "In epoch  25, loss: 2.9773, val acc: nan (best 0.0000), test acc: nan (best 0.0000)\n"
     ]
    },
    {
     "name": "stderr",
     "output_type": "stream",
     "text": [
      "/home/agent/anaconda3/envs/graph/lib/python3.8/site-packages/torch/autocast_mode.py:141: UserWarning: User provided device_type of 'cuda', but CUDA is not available. Disabling\n",
      "  warnings.warn('User provided device_type of \\'cuda\\', but CUDA is not available. Disabling')\n"
     ]
    },
    {
     "name": "stdout",
     "output_type": "stream",
     "text": [
      "In epoch  50, loss: 2.9143, val acc: nan (best 0.0000), test acc: nan (best 0.0000)\n",
      "In epoch  75, loss: 2.8838, val acc: nan (best 0.0000), test acc: nan (best 0.0000)\n",
      "In epoch 100, loss: 2.8683, val acc: nan (best 0.0000), test acc: nan (best 0.0000)\n",
      "/home/agent/Documents/graph/GNN/dataset/DKKD_graph/0038.edges.csv\n"
     ]
    },
    {
     "name": "stderr",
     "output_type": "stream",
     "text": [
      "/home/agent/anaconda3/envs/graph/lib/python3.8/site-packages/torch/autocast_mode.py:141: UserWarning: User provided device_type of 'cuda', but CUDA is not available. Disabling\n",
      "  warnings.warn('User provided device_type of \\'cuda\\', but CUDA is not available. Disabling')\n"
     ]
    },
    {
     "name": "stdout",
     "output_type": "stream",
     "text": [
      "In epoch  25, loss: 3.5870, val acc: nan (best 0.0000), test acc: nan (best 0.0000)\n",
      "In epoch  50, loss: 3.3392, val acc: nan (best 0.0000), test acc: nan (best 0.0000)\n",
      "In epoch  75, loss: 3.1268, val acc: nan (best 0.0000), test acc: nan (best 0.0000)\n",
      "In epoch 100, loss: 2.9470, val acc: nan (best 0.0000), test acc: nan (best 0.0000)\n"
     ]
    }
   ],
   "source": [
    "for i in range(dataset.__len__()):\n",
    "    g = dataset[i]\n",
    "    train(g, model, 100)"
   ]
  },
  {
   "cell_type": "code",
   "execution_count": null,
   "metadata": {},
   "outputs": [],
   "source": []
  }
 ],
 "metadata": {
  "kernelspec": {
   "display_name": "Python 3.8.13 ('graph')",
   "language": "python",
   "name": "python3"
  },
  "language_info": {
   "codemirror_mode": {
    "name": "ipython",
    "version": 3
   },
   "file_extension": ".py",
   "mimetype": "text/x-python",
   "name": "python",
   "nbconvert_exporter": "python",
   "pygments_lexer": "ipython3",
   "version": "3.8.13"
  },
  "orig_nbformat": 4,
  "vscode": {
   "interpreter": {
    "hash": "d620334016f14c166285ee8528a11ee9bc398b5cacff66726993ff9e9a83d46b"
   }
  }
 },
 "nbformat": 4,
 "nbformat_minor": 2
}
