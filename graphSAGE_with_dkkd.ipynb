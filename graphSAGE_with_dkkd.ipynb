{
 "cells": [
  {
   "cell_type": "code",
   "execution_count": 3,
   "metadata": {},
   "outputs": [],
   "source": [
    "import torch, dgl\n",
    "import torch.nn as nn\n",
    "import torch.nn.functional as F\n",
    "import torch.optim as optim\n",
    "\n",
    "from dgl.data import DGLDataset, CoraGraphDataset\n",
    "import dgl.function as fn\n",
    "import re\n",
    "import numpy as np\n",
    "import pandas as pd\n",
    "import os.path as osp\n",
    "from colorama import Fore\n",
    "from glob import glob\n"
   ]
  },
  {
   "cell_type": "code",
   "execution_count": 4,
   "metadata": {},
   "outputs": [],
   "source": [
    "class SAGEConv(nn.Module):\n",
    "    \"\"\"Graph convolution module used by the GraphSAGE model.\n",
    "\n",
    "    Parameters\n",
    "    ----------\n",
    "    in_feat : int\n",
    "        Input feature size.\n",
    "    out_feat : int\n",
    "        Output feature size.\n",
    "    \"\"\"\n",
    "    \n",
    "    def __init__(self, in_feat:int, out_feat:int):\n",
    "        super(SAGEConv, self).__init__()\n",
    "        # A linear submodule for projecting the input and neighbor feature to the output.\n",
    "        self.linear = nn.Linear(in_feat * 2, out_feat)\n",
    "\n",
    "    def forward(self, g, h):\n",
    "        \"\"\"Forward computation\n",
    "\n",
    "        Parameters\n",
    "        ----------\n",
    "        g : Graph\n",
    "            The input graph.\n",
    "        h : Tensor\n",
    "            The input node feature.\n",
    "        \"\"\"\n",
    "        with g.local_scope():\n",
    "            g.ndata['h'] = h\n",
    "            # update_all is a message passing API.\n",
    "            g.update_all(message_func = fn.copy_u('h', 'm'), \n",
    "                         reduce_func = fn.mean('m', 'h_N'))\n",
    "            h_N = g.ndata['h_N']\n",
    "            h_total = torch.cat([h, h_N], dim=1)\n",
    "            return self.linear(h_total)\n",
    "\n",
    "\n",
    "class GraphSAGE(nn.Module):\n",
    "    def __init__(self, in_feats, h_feats, num_classes):\n",
    "        super(GraphSAGE, self).__init__()\n",
    "        self.conv1 = SAGEConv(in_feats, h_feats)\n",
    "        self.conv2 = SAGEConv(h_feats, num_classes)\n",
    "\n",
    "    def forward(self, g, in_feat):\n",
    "        h = self.conv1(g, in_feat)\n",
    "        h = F.relu(h)\n",
    "        h = self.conv2(g, h)\n",
    "        return h"
   ]
  },
  {
   "cell_type": "code",
   "execution_count": 5,
   "metadata": {},
   "outputs": [],
   "source": [
    "class DkkdGraphDataset(DGLDataset):\n",
    "    def __init__(self, root:str='dataset/graph_DKKD'):\n",
    "        super().__init__(name='dataset/Karate_Club')\n",
    "        self.root = root\n",
    "        self.edges = glob(osp.join(root, '*.edges.csv'))\n",
    "        self.nodes_feat = glob(osp.join(root, '*.nfeat.npy'))\n",
    "        self.nodes_label = glob(osp.join(root, '*.idx.csv'))\n",
    "\n",
    "    def __len__(self): return len(self.edges)\n",
    "    def __getitem__(self, i):\n",
    "        edgep = self.edges[i]\n",
    "        nodes_feat = np.load(re.sub('.edges.csv$', '.nfeat.npy', edgep))\n",
    "        nodes_label = pd.read_csv(\n",
    "            re.sub('.edges.csv$', '.nfeat.npy', edgep), encoding='utf-8')\n",
    "        \n",
    "        def _get_n_nodes():\n",
    "            r\"\"\"\n",
    "            tính và kiểm tra số thứ tự của node\n",
    "            \"\"\"\n",
    "            n_nodes = nodes_label['Id'].to_list()\n",
    "            for i, idx in enumerate(n_nodes):\n",
    "                assert i == idx, 'i != idx'\n",
    "            return len(n_nodes)\n",
    "        n_nodes = _get_n_nodes()\n",
    "        \n",
    "        nodes_label = nodes_label['label'].astype('category').cat.codes.to_list()\n",
    "        edge = pd.read_csv(edgep, encoding='utf-8')\n",
    "        \n",
    "        g = dgl.graph((edge['src'], edge['dst']), num_nodes=n_nodes)\n",
    "        g = dgl.to_bidirected(g)\n",
    "        g.ndata['feat' ] = torch.from_numpy(nodes_feat )\n",
    "        g.ndata['label'] = torch.tensor    (nodes_label)\n",
    "        g.ndata['train_mask'] = torch.ones (n_nodes, dtype=torch.bool)\n",
    "        g.ndata['val_mask'  ] = torch.zeros(n_nodes, dtype=torch.bool)\n",
    "        g.ndata['test_mask' ] = torch.zeros(n_nodes, dtype=torch.bool)\n",
    "        \n",
    "        return g\n",
    "    \n",
    "    def process(self): ..."
   ]
  },
  {
   "cell_type": "code",
   "execution_count": 6,
   "metadata": {},
   "outputs": [],
   "source": [
    "dataset = DkkdGraphDataset()"
   ]
  },
  {
   "cell_type": "code",
   "execution_count": null,
   "metadata": {},
   "outputs": [],
   "source": []
  }
 ],
 "metadata": {
  "kernelspec": {
   "display_name": "Python 3.8.13 ('graph')",
   "language": "python",
   "name": "python3"
  },
  "language_info": {
   "codemirror_mode": {
    "name": "ipython",
    "version": 3
   },
   "file_extension": ".py",
   "mimetype": "text/x-python",
   "name": "python",
   "nbconvert_exporter": "python",
   "pygments_lexer": "ipython3",
   "version": "3.8.13"
  },
  "orig_nbformat": 4,
  "vscode": {
   "interpreter": {
    "hash": "d620334016f14c166285ee8528a11ee9bc398b5cacff66726993ff9e9a83d46b"
   }
  }
 },
 "nbformat": 4,
 "nbformat_minor": 2
}
